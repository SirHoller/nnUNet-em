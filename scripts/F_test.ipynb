{
 "cells": [
  {
   "cell_type": "code",
   "execution_count": 9,
   "metadata": {},
   "outputs": [],
   "source": [
    "#%pip install batchgeneratorsv2\n",
    "\n",
    "import torch\n",
    "\n",
    "import os"
   ]
  },
  {
   "cell_type": "code",
   "execution_count": 10,
   "metadata": {},
   "outputs": [],
   "source": [
    "os.chdir('..')"
   ]
  },
  {
   "cell_type": "code",
   "execution_count": 11,
   "metadata": {},
   "outputs": [
    {
     "data": {
      "text/plain": [
       "'c:\\\\Users\\\\mrtwe\\\\TFM'"
      ]
     },
     "execution_count": 11,
     "metadata": {},
     "output_type": "execute_result"
    }
   ],
   "source": [
    "os.getcwd()"
   ]
  },
  {
   "cell_type": "code",
   "execution_count": 12,
   "metadata": {},
   "outputs": [
    {
     "name": "stdout",
     "output_type": "stream",
     "text": [
      "Environment variables set: nnUNet_raw, nnUNet_preprocessed, nnUNet_results\n",
      "C:\\Users\\mrtwe\\TFM\\nnUNet-em\\nnUNet_raw_data\n",
      "C:\\Users\\mrtwe\\TFM\\nnUNet-em\\nnUNet_preprocessed_data\n",
      "C:\\Users\\mrtwe\\TFM\\nnUNet-em\\nnUNet_results\n"
     ]
    }
   ],
   "source": [
    "from scripts.A_config import NNUNetConfig, DatasetType\n",
    "NNUNetConfig().export_paths_to_env()\n"
   ]
  },
  {
   "cell_type": "code",
   "execution_count": 13,
   "metadata": {},
   "outputs": [],
   "source": [
    "from nnunetv2.run.run_training import run_training"
   ]
  },
  {
   "cell_type": "code",
   "execution_count": 14,
   "metadata": {},
   "outputs": [
    {
     "name": "stdout",
     "output_type": "stream",
     "text": [
      "El entorno utiliza:  cuda\n"
     ]
    }
   ],
   "source": [
    "# Comprobación de entorno con gpu\n",
    "device = torch.device(\"cuda\" if torch.cuda.is_available() else \"cpu\")\n",
    "print(\"El entorno utiliza: \", device)\n",
    "# # Comprobación de entorno con gpu M1\n",
    "# device = torch.device(\"mps\" if torch.backends.mps.is_available() else \"cpu\")\n",
    "# print(\"El entorno utiliza: \", device)"
   ]
  },
  {
   "cell_type": "code",
   "execution_count": 15,
   "metadata": {},
   "outputs": [
    {
     "ename": "RuntimeError",
     "evalue": "Error: cannot set number of interop threads after parallel work has started or set_num_interop_threads called",
     "output_type": "error",
     "traceback": [
      "\u001b[1;31m---------------------------------------------------------------------------\u001b[0m",
      "\u001b[1;31mRuntimeError\u001b[0m                              Traceback (most recent call last)",
      "Cell \u001b[1;32mIn[15], line 2\u001b[0m\n\u001b[0;32m      1\u001b[0m torch\u001b[38;5;241m.\u001b[39mset_num_threads(\u001b[38;5;241m1\u001b[39m)\n\u001b[1;32m----> 2\u001b[0m \u001b[43mtorch\u001b[49m\u001b[38;5;241;43m.\u001b[39;49m\u001b[43mset_num_interop_threads\u001b[49m\u001b[43m(\u001b[49m\u001b[38;5;241;43m1\u001b[39;49m\u001b[43m)\u001b[49m\n",
      "\u001b[1;31mRuntimeError\u001b[0m: Error: cannot set number of interop threads after parallel work has started or set_num_interop_threads called"
     ]
    }
   ],
   "source": [
    "torch.set_num_threads(1)\n",
    "torch.set_num_interop_threads(1)\n"
   ]
  },
  {
   "cell_type": "code",
   "execution_count": 16,
   "metadata": {},
   "outputs": [
    {
     "name": "stdout",
     "output_type": "stream",
     "text": [
      "\n",
      "############################\n",
      "INFO: You are using the old nnU-Net default plans. We have updated our recommendations. Please consider using those instead! Read more here: https://github.com/MIC-DKFZ/nnUNet/blob/master/documentation/resenc_presets.md\n",
      "############################\n",
      "\n",
      "Using device: cuda:0\n",
      "2024-12-09 08:43:57.387669: Ignore previous message about oversample_foreground_percent. oversample_foreground_percent overwritten to 0.33\n",
      "\n",
      "#######################################################################\n",
      "Please cite the following paper when using nnU-Net:\n",
      "Isensee, F., Jaeger, P. F., Kohl, S. A., Petersen, J., & Maier-Hein, K. H. (2021). nnU-Net: a self-configuring method for deep learning-based biomedical image segmentation. Nature methods, 18(2), 203-211.\n",
      "#######################################################################\n",
      "\n",
      "2024-12-09 08:43:57.393424: Using early stopping with patience: 100\n",
      "2024-12-09 08:43:57.397159: self.oversample_foreground_percent 0.5\n"
     ]
    },
    {
     "name": "stderr",
     "output_type": "stream",
     "text": [
      "c:\\Users\\mrtwe\\miniforge3\\envs\\TFM\\lib\\site-packages\\torch\\optim\\lr_scheduler.py:62: UserWarning: The verbose parameter is deprecated. Please use get_last_lr() to access the learning rate.\n",
      "  warnings.warn(\n",
      "c:\\Users\\mrtwe\\TFM\\nnUNet-em\\nnunetv2\\training\\nnUNetTrainer\\nnUNetTrainer.py:1184: FutureWarning: You are using `torch.load` with `weights_only=False` (the current default value), which uses the default pickle module implicitly. It is possible to construct malicious pickle data which will execute arbitrary code during unpickling (See https://github.com/pytorch/pytorch/blob/main/SECURITY.md#untrusted-models for more details). In a future release, the default value for `weights_only` will be flipped to `True`. This limits the functions that could be executed during unpickling. Arbitrary objects will no longer be allowed to be loaded via this mode unless they are explicitly allowlisted by the user via `torch.serialization.add_safe_globals`. We recommend you start setting `weights_only=True` for any use case where you don't have full control of the loaded file. Please open an issue on GitHub for any issues related to this experimental feature.\n",
      "  checkpoint = torch.load(filename_or_checkpoint, map_location=self.device)\n"
     ]
    },
    {
     "name": "stdout",
     "output_type": "stream",
     "text": [
      "2024-12-09 08:43:58.331573: Using splits from existing split file: C:\\Users\\mrtwe\\TFM\\nnUNet-em\\nnUNet_preprocessed_data\\Dataset100_NewLesions\\splits_final.json\n",
      "2024-12-09 08:43:58.337447: The split file contains 5 splits.\n",
      "2024-12-09 08:43:58.342450: Desired fold for training: 5\n",
      "2024-12-09 08:43:58.346449: INFO: You requested fold 5 for training but splits contain only 5 folds. I am now creating a random (but seeded) 80:20 split!\n",
      "2024-12-09 08:43:58.351450: This random 80:20 split has 64 training and 17 validation cases.\n",
      "2024-12-09 08:43:58.351898: predicting FIS_004_01\n",
      "2024-12-09 08:43:58.351898: FIS_004_01, shape torch.Size([2, 182, 218, 182]), rank 0\n",
      "2024-12-09 08:44:02.582579: predicting FIS_006_01\n",
      "2024-12-09 08:44:02.597584: FIS_006_01, shape torch.Size([2, 182, 218, 182]), rank 0\n",
      "2024-12-09 08:44:05.731097: predicting FIS_017_01\n",
      "2024-12-09 08:44:05.746721: FIS_017_01, shape torch.Size([2, 182, 218, 182]), rank 0\n",
      "2024-12-09 08:44:08.875258: predicting FIS_046_01\n",
      "2024-12-09 08:44:08.891291: FIS_046_01, shape torch.Size([2, 182, 218, 182]), rank 0\n",
      "2024-12-09 08:44:12.013849: predicting FIS_059_01\n",
      "2024-12-09 08:44:12.029479: FIS_059_01, shape torch.Size([2, 182, 218, 182]), rank 0\n",
      "2024-12-09 08:44:15.158733: predicting FIS_084_01\n",
      "2024-12-09 08:44:15.174361: FIS_084_01, shape torch.Size([2, 182, 218, 182]), rank 0\n",
      "2024-12-09 08:44:18.304027: predicting FIS_118_01\n",
      "2024-12-09 08:44:18.313192: FIS_118_01, shape torch.Size([2, 182, 218, 182]), rank 0\n",
      "2024-12-09 08:44:21.434423: predicting REHEM_102_01\n",
      "2024-12-09 08:44:21.450048: REHEM_102_01, shape torch.Size([2, 182, 218, 182]), rank 0\n",
      "2024-12-09 08:44:24.526557: predicting REHEM_104_01\n",
      "2024-12-09 08:44:24.541309: REHEM_104_01, shape torch.Size([2, 182, 218, 182]), rank 0\n",
      "2024-12-09 08:44:27.651648: predicting REHEM_107_01\n",
      "2024-12-09 08:44:27.665601: REHEM_107_01, shape torch.Size([2, 182, 218, 182]), rank 0\n",
      "2024-12-09 08:44:30.804524: predicting REHEM_20_01\n",
      "2024-12-09 08:44:30.818476: REHEM_20_01, shape torch.Size([2, 182, 218, 182]), rank 0\n",
      "2024-12-09 08:44:33.957428: predicting REHEM_21_01\n",
      "2024-12-09 08:44:33.957428: REHEM_21_01, shape torch.Size([2, 182, 218, 182]), rank 0\n",
      "2024-12-09 08:44:37.149720: predicting REHEM_36_01\n",
      "2024-12-09 08:44:37.149720: REHEM_36_01, shape torch.Size([2, 182, 218, 182]), rank 0\n",
      "2024-12-09 08:44:40.306059: predicting REHEM_67_01\n",
      "2024-12-09 08:44:40.316695: REHEM_67_01, shape torch.Size([2, 182, 218, 182]), rank 0\n",
      "2024-12-09 08:44:43.438675: predicting REHEM_75_01\n",
      "2024-12-09 08:44:43.454303: REHEM_75_01, shape torch.Size([2, 182, 218, 182]), rank 0\n",
      "2024-12-09 08:44:46.575661: predicting REHEM_79_01\n",
      "2024-12-09 08:44:46.589692: REHEM_79_01, shape torch.Size([2, 182, 218, 182]), rank 0\n",
      "2024-12-09 08:44:49.667213: predicting REHEM_87_01\n",
      "2024-12-09 08:44:49.673292: REHEM_87_01, shape torch.Size([2, 182, 218, 182]), rank 0\n",
      "2024-12-09 08:44:55.972131: Validation complete\n",
      "2024-12-09 08:44:55.979028: Mean Validation Dice:  0.3647301190454315\n"
     ]
    }
   ],
   "source": [
    "# NNUNetConfig().export_paths_to_env()\n",
    "\n",
    "run_training(\n",
    "        dataset_name_or_id=\"100\",\n",
    "        fold=\"5\",\n",
    "        device=device,\n",
    "        configuration=NNUNetConfig().CONFIGURATION,\n",
    "        trainer_class_name=\"nnUNetTrainerCustomOversamplingEarlyStopping\",\n",
    "        export_validation_probabilities=False,\n",
    "        only_run_validation=True\n",
    "    )"
   ]
  }
 ],
 "metadata": {
  "kernelspec": {
   "display_name": "TFM",
   "language": "python",
   "name": "python3"
  },
  "language_info": {
   "codemirror_mode": {
    "name": "ipython",
    "version": 3
   },
   "file_extension": ".py",
   "mimetype": "text/x-python",
   "name": "python",
   "nbconvert_exporter": "python",
   "pygments_lexer": "ipython3",
   "version": "3.10.15"
  }
 },
 "nbformat": 4,
 "nbformat_minor": 2
}
