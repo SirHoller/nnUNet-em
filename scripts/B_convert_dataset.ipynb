{
 "cells": [
  {
   "cell_type": "code",
   "execution_count": 1,
   "metadata": {},
   "outputs": [],
   "source": [
    "import json\n",
    "import os\n",
    "import sys\n",
    "import shutil"
   ]
  },
  {
   "cell_type": "code",
   "execution_count": 2,
   "metadata": {},
   "outputs": [],
   "source": [
    "os.chdir('..')\n"
   ]
  },
  {
   "cell_type": "code",
   "execution_count": 3,
   "metadata": {},
   "outputs": [
    {
     "data": {
      "text/plain": [
       "'c:\\\\Users\\\\mrtwe\\\\TFM\\\\nnUNet-em'"
      ]
     },
     "execution_count": 3,
     "metadata": {},
     "output_type": "execute_result"
    }
   ],
   "source": [
    "os.getcwd()\n"
   ]
  },
  {
   "cell_type": "code",
   "execution_count": 4,
   "metadata": {},
   "outputs": [],
   "source": [
    "from scripts.A_config import NNUNetConfig, DatasetType"
   ]
  },
  {
   "cell_type": "code",
   "execution_count": 5,
   "metadata": {},
   "outputs": [],
   "source": [
    "try:\n",
    "    os.mkdir(NNUNetConfig().dataset_raw_dir)\n",
    "except FileExistsError:\n",
    "    pass\n",
    "try:\n",
    "    os.mkdir(NNUNetConfig().train_images_dir)\n",
    "except FileExistsError:\n",
    "    pass\n",
    "try:\n",
    "    os.mkdir(NNUNetConfig().train_labels_dir)\n",
    "except FileExistsError:\n",
    "    pass"
   ]
  },
  {
   "cell_type": "code",
   "execution_count": 8,
   "metadata": {},
   "outputs": [],
   "source": [
    "dataset_json = {\n",
    "        \"channel_names\": {\n",
    "            \"0\": \"Baseline\",\n",
    "            \"1\": \"Follow-up\"\n",
    "        },\n",
    "        \"labels\": {\n",
    "            \"background\": 0,\n",
    "            \"Basal-lesions\": 1,\n",
    "            \"New-lesions\": 2\n",
    "        },\n",
    "        \"numTraining\": 81,\n",
    "        \"file_ending\": \".nii.gz\"\n",
    "    }\n",
    "with open(NNUNetConfig().dataset_raw_dir / 'dataset.json', 'w') as f:\n",
    "    json.dump(dataset_json, f)"
   ]
  },
  {
   "cell_type": "code",
   "execution_count": 6,
   "metadata": {},
   "outputs": [
    {
     "name": "stdout",
     "output_type": "stream",
     "text": [
      "C:\\Users\\mrtwe\\TFM\\nnUNet-em\\NEW_LESIONS_IMAGINEM\n"
     ]
    }
   ],
   "source": [
    "print(NNUNetConfig().ORIGINAL_DATA_PATH)"
   ]
  },
  {
   "cell_type": "code",
   "execution_count": 9,
   "metadata": {},
   "outputs": [],
   "source": [
    "all_files_in_origin = [file_name for file_name in os.listdir(NNUNetConfig().ORIGINAL_DATA_PATH) if file_name.endswith(\".nii.gz\")]\n",
    "mask_files = [file_name for file_name in all_files_in_origin if \"mask\" in file_name]\n",
    "raw_files = [file_name for file_name in all_files_in_origin if \"mask\" not in file_name]\n",
    "\n",
    "# # Extracting ids:\n",
    "ids = [file_name.split(\".\")[0][:-5] for file_name in mask_files]"
   ]
  },
  {
   "cell_type": "code",
   "execution_count": 16,
   "metadata": {},
   "outputs": [
    {
     "name": "stdout",
     "output_type": "stream",
     "text": [
      "['REHEM_63_mas', 'REHEM_121_mas', 'REHEM_82_mas', 'REHEM_105_mas', 'FIS_118_mas', 'FIS_084_mas', 'FIS_117_mas', 'REHEM_75_mas', 'FIS_041_mas', 'REHEM_16_mas', 'REHEM_113_mas', 'FIS_006_mas', 'FIS_001_mas', 'FIS_046_mas', 'FIS_110_mas', 'REHEM_35_mas', 'REHEM_08_mas', 'FIS_025_mas', 'FIS_122_mas', 'REHEM_40_mas', 'REHEM_102_mas', 'FIS_017_mas', 'REHEM_23_mas', 'FIS_033_mas', 'FIS_095_mas', 'REHEM_59_mas', 'REHEM_34_mas', 'FIS_019_mas', 'FIS_082_mas', 'FIS_024_mas', 'REHEM_41_mas', 'REHEM_58_mas', 'FIS_075_mas', 'FIS_107_mas', 'REHEM_84_mas', 'REHEM_22_mas', 'FIS_032_mas', 'FIS_094_mas', 'FIS_093_mas', 'REHEM_120_mas', 'REHEM_18_mas', 'FIS_072_mas', 'REHEM_46_mas', 'FIS_119_mas', 'FIS_124_mas', 'REHEM_104_mas', 'FIS_059_mas', 'FIS_116_mas', 'REHEM_74_mas', 'REHEM_95_mas', 'FIS_007_mas', 'REHEM_36_mas', 'FIS_061_mas', 'FIS_113_mas', 'FIS_078_mas', 'REHEM_55_mas', 'REHEM_68_mas', 'REHEM_117_mas', 'FIS_099_mas', 'REHEM_12_mas', 'REHEM_67_mas', 'FIS_105_mas', 'REHEM_20_mas', 'REHEM_86_mas', 'REHEM_118_mas', 'FIS_096_mas', 'FIS_014_mas', 'REHEM_101_mas', 'REHEM_39_mas', 'REHEM_79_mas', 'REHEM_03_mas', 'REHEM_106_mas', 'FIS_013_mas', 'FIS_088_mas', 'FIS_037_mas', 'REHEM_81_mas', 'FIS_102_mas', 'REHEM_60_mas', 'REHEM_15_mas', 'FIS_005_mas', 'REHEM_110_mas', 'FIS_042_mas', 'FIS_066_mas', 'FIS_021_mas', 'REHEM_97_mas', 'REHEM_99_mas', 'FIS_012_mas', 'REHEM_107_mas', 'FIS_127_mas', 'FIS_068_mas', 'FIS_055_mas', 'FIS_071_mas', 'FIS_103_mas', 'FIS_090_mas', 'REHEM_80_mas', 'FIS_043_mas', 'REHEM_111_mas', 'FIS_004_mas', 'FIS_039_mas', 'FIS_086_mas', 'REHEM_108_mas', 'FIS_020_mas', 'FIS_128_mas', 'FIS_067_mas', 'REHEM_70_mas', 'REHEM_37_mas', 'FIS_098_mas', 'REHEM_13_mas', 'REHEM_88_mas', 'FIS_044_mas', 'REHEM_21_mas', 'REHEM_87_mas', 'FIS_097_mas', 'FIS_031_mas', 'FIS_104_mas', 'REHEM_42_mas', 'FIS_028_mas']\n",
      "['FIS_122_01_0000.nii.gz', 'REHEM_99_01_0000.nii.gz', 'FIS_021_01_0000.nii.gz', 'FIS_096_01_0001.nii.gz', 'REHEM_118_01_0001.nii.gz', 'REHEM_121_01_0000.nii.gz', 'REHEM_110_01_0001.nii.gz', 'REHEM_105_01_0001.nii.gz', 'FIS_061_01_0001.nii.gz', 'REHEM_42_01_0001.nii.gz', 'FIS_113_01_0001.nii.gz', 'REHEM_84_01_0000.nii.gz', 'FIS_005_01_0001.nii.gz', 'FIS_084_01_0001.nii.gz', 'FIS_033_01_0000.nii.gz', 'REHEM_74_01_0000.nii.gz', 'FIS_042_01_0000.nii.gz', 'REHEM_58_01_0001.nii.gz', 'FIS_066_01_0001.nii.gz', 'REHEM_102_01_0001.nii.gz', 'REHEM_117_01_0001.nii.gz', 'REHEM_21_01_0001.nii.gz', 'REHEM_34_01_0001.nii.gz', 'FIS_017_01_0001.nii.gz', 'REHEM_18_01_0000.nii.gz', 'FIS_099_01_0001.nii.gz', 'REHEM_68_01_0000.nii.gz', 'FIS_072_01_0001.nii.gz', 'FIS_067_01_0001.nii.gz', 'FIS_098_01_0001.nii.gz', 'REHEM_82_01_0000.nii.gz', 'REHEM_97_01_0000.nii.gz', 'REHEM_35_01_0001.nii.gz', 'REHEM_20_01_0001.nii.gz', 'FIS_124_01_0000.nii.gz', 'FIS_032_01_0000.nii.gz', 'FIS_090_01_0001.nii.gz', 'REHEM_59_01_0001.nii.gz', 'FIS_043_01_0000.nii.gz', 'REHEM_75_01_0000.nii.gz', 'REHEM_60_01_0000.nii.gz', 'FIS_075_01_0001.nii.gz', 'REHEM_104_01_0001.nii.gz', 'REHEM_111_01_0001.nii.gz', 'FIS_059_01_0000.nii.gz', 'FIS_004_01_0001.nii.gz', 'FIS_028_01_0000.nii.gz', 'FIS_107_01_0001.nii.gz', 'FIS_097_01_0001.nii.gz', 'FIS_082_01_0001.nii.gz', 'REHEM_03_01_0000.nii.gz', 'REHEM_16_01_0000.nii.gz', 'FIS_020_01_0000.nii.gz', 'FIS_019_01_0001.nii.gz', 'REHEM_120_01_0000.nii.gz', 'REHEM_67_01_0000.nii.gz', 'FIS_044_01_0000.nii.gz', 'FIS_068_01_0001.nii.gz', 'FIS_088_01_0001.nii.gz', 'FIS_110_01_0001.nii.gz', 'FIS_105_01_0001.nii.gz', 'REHEM_87_01_0000.nii.gz', 'FIS_006_01_0001.nii.gz', 'FIS_013_01_0001.nii.gz', 'REHEM_106_01_0001.nii.gz', 'REHEM_113_01_0001.nii.gz', 'REHEM_41_01_0001.nii.gz', 'REHEM_70_01_0000.nii.gz', 'FIS_046_01_0000.nii.gz', 'FIS_118_01_0001.nii.gz', 'FIS_037_01_0000.nii.gz', 'FIS_095_01_0001.nii.gz', 'FIS_014_01_0001.nii.gz', 'FIS_001_01_0001.nii.gz', 'REHEM_37_01_0001.nii.gz', 'REHEM_22_01_0001.nii.gz', 'REHEM_80_01_0000.nii.gz', 'REHEM_95_01_0000.nii.gz', 'FIS_102_01_0001.nii.gz', 'FIS_117_01_0001.nii.gz', 'REHEM_46_01_0001.nii.gz', 'REHEM_101_01_0001.nii.gz', 'FIS_041_01_0000.nii.gz', 'FIS_078_01_0001.nii.gz', 'FIS_025_01_0000.nii.gz', 'REHEM_13_01_0000.nii.gz', 'REHEM_88_01_0000.nii.gz', 'REHEM_108_01_0001.nii.gz', 'REHEM_63_01_0000.nii.gz', 'FIS_055_01_0000.nii.gz', 'FIS_127_01_0000.nii.gz', 'REHEM_12_01_0000.nii.gz', 'FIS_024_01_0000.nii.gz', 'FIS_031_01_0000.nii.gz', 'FIS_093_01_0001.nii.gz', 'FIS_086_01_0001.nii.gz', 'FIS_039_01_0000.nii.gz', 'FIS_116_01_0001.nii.gz', 'FIS_103_01_0001.nii.gz', 'REHEM_81_01_0000.nii.gz', 'REHEM_23_01_0001.nii.gz', 'REHEM_36_01_0001.nii.gz', 'FIS_071_01_0001.nii.gz', 'FIS_094_01_0001.nii.gz', 'REHEM_15_01_0000.nii.gz', 'FIS_119_01_0001.nii.gz', 'REHEM_39_01_0001.nii.gz', 'FIS_012_01_0001.nii.gz', 'FIS_007_01_0001.nii.gz', 'FIS_128_01_0000.nii.gz', 'REHEM_86_01_0000.nii.gz', 'REHEM_08_01_0000.nii.gz', 'FIS_104_01_0001.nii.gz', 'REHEM_55_01_0001.nii.gz', 'REHEM_40_01_0001.nii.gz', 'REHEM_107_01_0001.nii.gz', 'REHEM_79_01_0000.nii.gz', 'REHEM_102_01_0000.nii.gz', 'REHEM_117_01_0000.nii.gz', 'FIS_066_01_0000.nii.gz', 'FIS_099_01_0000.nii.gz', 'REHEM_18_01_0001.nii.gz', 'REHEM_21_01_0000.nii.gz', 'REHEM_34_01_0000.nii.gz', 'FIS_017_01_0000.nii.gz', 'FIS_033_01_0001.nii.gz', 'FIS_084_01_0000.nii.gz', 'REHEM_58_01_0000.nii.gz', 'REHEM_74_01_0001.nii.gz', 'FIS_042_01_0001.nii.gz', 'FIS_061_01_0000.nii.gz', 'REHEM_42_01_0000.nii.gz', 'REHEM_110_01_0000.nii.gz', 'REHEM_105_01_0000.nii.gz', 'FIS_005_01_0000.nii.gz', 'REHEM_84_01_0001.nii.gz', 'FIS_113_01_0000.nii.gz', 'FIS_096_01_0000.nii.gz', 'FIS_021_01_0001.nii.gz', 'REHEM_99_01_0001.nii.gz', 'FIS_122_01_0001.nii.gz', 'REHEM_121_01_0001.nii.gz', 'REHEM_118_01_0000.nii.gz', 'FIS_019_01_0000.nii.gz', 'REHEM_03_01_0001.nii.gz', 'REHEM_16_01_0001.nii.gz', 'FIS_020_01_0001.nii.gz', 'FIS_097_01_0000.nii.gz', 'FIS_082_01_0000.nii.gz', 'FIS_068_01_0000.nii.gz', 'REHEM_67_01_0001.nii.gz', 'FIS_044_01_0001.nii.gz', 'REHEM_120_01_0001.nii.gz', 'FIS_059_01_0001.nii.gz', 'REHEM_104_01_0000.nii.gz', 'REHEM_111_01_0000.nii.gz', 'FIS_075_01_0000.nii.gz', 'FIS_028_01_0001.nii.gz', 'FIS_107_01_0000.nii.gz', 'FIS_004_01_0000.nii.gz', 'FIS_090_01_0000.nii.gz', 'FIS_032_01_0001.nii.gz', 'FIS_124_01_0001.nii.gz', 'FIS_043_01_0001.nii.gz', 'REHEM_75_01_0001.nii.gz', 'REHEM_60_01_0001.nii.gz', 'REHEM_59_01_0000.nii.gz', 'FIS_072_01_0000.nii.gz', 'FIS_067_01_0000.nii.gz', 'REHEM_68_01_0001.nii.gz', 'REHEM_35_01_0000.nii.gz', 'REHEM_20_01_0000.nii.gz', 'REHEM_82_01_0001.nii.gz', 'REHEM_97_01_0001.nii.gz', 'FIS_098_01_0000.nii.gz', 'FIS_078_01_0000.nii.gz', 'FIS_041_01_0001.nii.gz', 'REHEM_88_01_0001.nii.gz', 'FIS_025_01_0001.nii.gz', 'REHEM_13_01_0001.nii.gz', 'FIS_102_01_0000.nii.gz', 'FIS_117_01_0000.nii.gz', 'REHEM_80_01_0001.nii.gz', 'REHEM_95_01_0001.nii.gz', 'FIS_014_01_0000.nii.gz', 'FIS_001_01_0000.nii.gz', 'REHEM_37_01_0000.nii.gz', 'REHEM_22_01_0000.nii.gz', 'REHEM_101_01_0000.nii.gz', 'REHEM_46_01_0000.nii.gz', 'REHEM_70_01_0001.nii.gz', 'FIS_046_01_0001.nii.gz', 'FIS_095_01_0000.nii.gz', 'FIS_118_01_0000.nii.gz', 'FIS_037_01_0001.nii.gz', 'FIS_006_01_0000.nii.gz', 'FIS_013_01_0000.nii.gz', 'REHEM_87_01_0001.nii.gz', 'FIS_110_01_0000.nii.gz', 'FIS_105_01_0000.nii.gz', 'FIS_088_01_0000.nii.gz', 'REHEM_41_01_0000.nii.gz', 'REHEM_106_01_0000.nii.gz', 'REHEM_113_01_0000.nii.gz', 'REHEM_08_01_0001.nii.gz', 'FIS_104_01_0000.nii.gz', 'REHEM_86_01_0001.nii.gz', 'FIS_012_01_0000.nii.gz', 'FIS_007_01_0000.nii.gz', 'FIS_128_01_0001.nii.gz', 'REHEM_79_01_0001.nii.gz', 'REHEM_107_01_0000.nii.gz', 'REHEM_55_01_0000.nii.gz', 'REHEM_40_01_0000.nii.gz', 'REHEM_39_01_0000.nii.gz', 'REHEM_15_01_0001.nii.gz', 'FIS_119_01_0000.nii.gz', 'FIS_094_01_0000.nii.gz', 'REHEM_23_01_0000.nii.gz', 'REHEM_36_01_0000.nii.gz', 'REHEM_81_01_0001.nii.gz', 'FIS_039_01_0001.nii.gz', 'FIS_116_01_0000.nii.gz', 'FIS_103_01_0000.nii.gz', 'FIS_071_01_0000.nii.gz', 'REHEM_63_01_0001.nii.gz', 'FIS_055_01_0001.nii.gz', 'REHEM_108_01_0000.nii.gz', 'FIS_093_01_0000.nii.gz', 'FIS_086_01_0000.nii.gz', 'REHEM_12_01_0001.nii.gz', 'FIS_024_01_0001.nii.gz', 'FIS_031_01_0001.nii.gz', 'FIS_127_01_0001.nii.gz']\n",
      "['REHEM_63_mask_def.nii.gz', 'REHEM_121_mask_def.nii.gz', 'REHEM_82_mask_def.nii.gz', 'REHEM_105_mask_def.nii.gz', 'FIS_118_mask_def.nii.gz', 'FIS_084_mask_def.nii.gz', 'FIS_117_mask_def.nii.gz', 'REHEM_75_mask_def.nii.gz', 'FIS_041_mask_def.nii.gz', 'REHEM_16_mask_def.nii.gz', 'REHEM_113_mask_def.nii.gz', 'FIS_006_mask_def.nii.gz', 'FIS_001_mask_def.nii.gz', 'FIS_046_mask_def.nii.gz', 'FIS_110_mask_def.nii.gz', 'REHEM_35_mask_def.nii.gz', 'REHEM_08_mask_def.nii.gz', 'FIS_025_mask_def.nii.gz', 'FIS_122_mask_def.nii.gz', 'REHEM_40_mask_def.nii.gz', 'REHEM_102_mask_def.nii.gz', 'FIS_017_mask_def.nii.gz', 'REHEM_23_mask_def.nii.gz', 'FIS_033_mask_def.nii.gz', 'FIS_095_mask_def.nii.gz', 'REHEM_59_mask_def.nii.gz', 'REHEM_34_mask_def.nii.gz', 'FIS_019_mask_def.nii.gz', 'FIS_082_mask_def.nii.gz', 'FIS_024_mask_def.nii.gz', 'REHEM_41_mask_def.nii.gz', 'REHEM_58_mask_def.nii.gz', 'FIS_075_mask_def.nii.gz', 'FIS_107_mask_def.nii.gz', 'REHEM_84_mask_def.nii.gz', 'REHEM_22_mask_def.nii.gz', 'FIS_032_mask_def.nii.gz', 'FIS_094_mask_def.nii.gz', 'FIS_093_mask_def.nii.gz', 'REHEM_120_mask_def.nii.gz', 'REHEM_18_mask_def.nii.gz', 'FIS_072_mask_def.nii.gz', 'REHEM_46_mask_def.nii.gz', 'FIS_119_mask_def.nii.gz', 'FIS_124_mask_def.nii.gz', 'REHEM_104_mask_def.nii.gz', 'FIS_059_mask_def.nii.gz', 'FIS_116_mask_def.nii.gz', 'REHEM_74_mask_def.nii.gz', 'REHEM_95_mask_def.nii.gz', 'FIS_007_mask_def.nii.gz', 'REHEM_36_mask_def.nii.gz', 'FIS_061_mask_def.nii.gz', 'FIS_113_mask_def.nii.gz', 'FIS_078_mask_def.nii.gz', 'REHEM_55_mask_def.nii.gz', 'REHEM_68_mask_def.nii.gz', 'REHEM_117_mask_def.nii.gz', 'FIS_099_mask_def.nii.gz', 'REHEM_12_mask_def.nii.gz', 'REHEM_67_mask_def.nii.gz', 'FIS_105_mask_def.nii.gz', 'REHEM_20_mask_def.nii.gz', 'REHEM_86_mask_def.nii.gz', 'REHEM_118_mask_def.nii.gz', 'FIS_096_mask_def.nii.gz', 'FIS_014_mask_def.nii.gz', 'REHEM_101_mask_def.nii.gz', 'REHEM_39_mask_def.nii.gz', 'REHEM_79_mask_def.nii.gz', 'REHEM_03_mask_def.nii.gz', 'REHEM_106_mask_def.nii.gz', 'FIS_013_mask_def.nii.gz', 'FIS_088_mask_def.nii.gz', 'FIS_037_mask_def.nii.gz', 'REHEM_81_mask_def.nii.gz', 'FIS_102_mask_def.nii.gz', 'REHEM_60_mask_def.nii.gz', 'REHEM_15_mask_def.nii.gz', 'FIS_005_mask_def.nii.gz', 'REHEM_110_mask_def.nii.gz', 'FIS_042_mask_def.nii.gz', 'FIS_066_mask_def.nii.gz', 'FIS_021_mask_def.nii.gz', 'REHEM_97_mask_def.nii.gz', 'REHEM_99_mask_def.nii.gz', 'FIS_012_mask_def.nii.gz', 'REHEM_107_mask_def.nii.gz', 'FIS_127_mask_def.nii.gz', 'FIS_068_mask_def.nii.gz', 'FIS_055_mask_def.nii.gz', 'FIS_071_mask_def.nii.gz', 'FIS_103_mask_def.nii.gz', 'FIS_090_mask_def.nii.gz', 'REHEM_80_mask_def.nii.gz', 'FIS_043_mask_def.nii.gz', 'REHEM_111_mask_def.nii.gz', 'FIS_004_mask_def.nii.gz', 'FIS_039_mask_def.nii.gz', 'FIS_086_mask_def.nii.gz', 'REHEM_108_mask_def.nii.gz', 'FIS_020_mask_def.nii.gz', 'FIS_128_mask_def.nii.gz', 'FIS_067_mask_def.nii.gz', 'REHEM_70_mask_def.nii.gz', 'REHEM_37_mask_def.nii.gz', 'FIS_098_mask_def.nii.gz', 'REHEM_13_mask_def.nii.gz', 'REHEM_88_mask_def.nii.gz', 'FIS_044_mask_def.nii.gz', 'REHEM_21_mask_def.nii.gz', 'REHEM_87_mask_def.nii.gz', 'FIS_097_mask_def.nii.gz', 'FIS_031_mask_def.nii.gz', 'FIS_104_mask_def.nii.gz', 'REHEM_42_mask_def.nii.gz', 'FIS_028_mask_def.nii.gz']\n",
      "['FIS_122_01_0000.nii.gz', 'REHEM_99_01_0000.nii.gz', 'FIS_021_01_0000.nii.gz', 'REHEM_63_mask_def.nii.gz', 'FIS_096_01_0001.nii.gz', 'REHEM_118_01_0001.nii.gz', 'REHEM_121_mask_def.nii.gz', 'REHEM_82_mask_def.nii.gz', 'REHEM_121_01_0000.nii.gz', 'REHEM_110_01_0001.nii.gz', 'REHEM_105_01_0001.nii.gz', 'REHEM_105_mask_def.nii.gz', 'FIS_061_01_0001.nii.gz', 'REHEM_42_01_0001.nii.gz', 'FIS_113_01_0001.nii.gz', 'REHEM_84_01_0000.nii.gz', 'FIS_118_mask_def.nii.gz', 'FIS_005_01_0001.nii.gz', 'FIS_084_01_0001.nii.gz', 'FIS_084_mask_def.nii.gz', 'FIS_033_01_0000.nii.gz', 'FIS_117_mask_def.nii.gz', 'REHEM_74_01_0000.nii.gz', 'FIS_042_01_0000.nii.gz', 'REHEM_75_mask_def.nii.gz', 'REHEM_58_01_0001.nii.gz', 'FIS_066_01_0001.nii.gz', 'REHEM_102_01_0001.nii.gz', 'REHEM_117_01_0001.nii.gz', 'FIS_041_mask_def.nii.gz', 'REHEM_16_mask_def.nii.gz', 'REHEM_21_01_0001.nii.gz', 'REHEM_34_01_0001.nii.gz', 'FIS_017_01_0001.nii.gz', 'REHEM_18_01_0000.nii.gz', 'REHEM_113_mask_def.nii.gz', 'FIS_006_mask_def.nii.gz', 'FIS_099_01_0001.nii.gz', 'FIS_001_mask_def.nii.gz', 'REHEM_68_01_0000.nii.gz', 'FIS_072_01_0001.nii.gz', 'FIS_067_01_0001.nii.gz', 'FIS_098_01_0001.nii.gz', 'FIS_046_mask_def.nii.gz', 'REHEM_82_01_0000.nii.gz', 'REHEM_97_01_0000.nii.gz', 'REHEM_35_01_0001.nii.gz', 'REHEM_20_01_0001.nii.gz', 'FIS_124_01_0000.nii.gz', 'FIS_032_01_0000.nii.gz', 'FIS_110_mask_def.nii.gz', 'FIS_090_01_0001.nii.gz', 'REHEM_59_01_0001.nii.gz', 'REHEM_35_mask_def.nii.gz', 'REHEM_08_mask_def.nii.gz', 'FIS_043_01_0000.nii.gz', 'REHEM_75_01_0000.nii.gz', 'REHEM_60_01_0000.nii.gz', 'FIS_025_mask_def.nii.gz', 'FIS_122_mask_def.nii.gz', 'FIS_075_01_0001.nii.gz', 'REHEM_104_01_0001.nii.gz', 'REHEM_111_01_0001.nii.gz', 'FIS_059_01_0000.nii.gz', 'REHEM_40_mask_def.nii.gz', 'FIS_004_01_0001.nii.gz', 'REHEM_102_mask_def.nii.gz', 'FIS_017_mask_def.nii.gz', 'FIS_028_01_0000.nii.gz', 'FIS_107_01_0001.nii.gz', 'FIS_097_01_0001.nii.gz', 'FIS_082_01_0001.nii.gz', 'REHEM_03_01_0000.nii.gz', 'REHEM_16_01_0000.nii.gz', 'FIS_020_01_0000.nii.gz', 'REHEM_23_mask_def.nii.gz', 'FIS_033_mask_def.nii.gz', 'FIS_019_01_0001.nii.gz', 'FIS_095_mask_def.nii.gz', 'REHEM_59_mask_def.nii.gz', 'REHEM_120_01_0000.nii.gz', 'REHEM_67_01_0000.nii.gz', 'FIS_044_01_0000.nii.gz', 'FIS_068_01_0001.nii.gz', 'FIS_088_01_0001.nii.gz', 'FIS_110_01_0001.nii.gz', 'FIS_105_01_0001.nii.gz', 'REHEM_87_01_0000.nii.gz', 'FIS_006_01_0001.nii.gz', 'FIS_013_01_0001.nii.gz', 'REHEM_106_01_0001.nii.gz', 'REHEM_113_01_0001.nii.gz', 'REHEM_41_01_0001.nii.gz', 'REHEM_34_mask_def.nii.gz', 'FIS_019_mask_def.nii.gz', 'FIS_082_mask_def.nii.gz', 'REHEM_70_01_0000.nii.gz', 'FIS_046_01_0000.nii.gz', 'FIS_024_mask_def.nii.gz', 'FIS_118_01_0001.nii.gz', 'FIS_037_01_0000.nii.gz', 'FIS_095_01_0001.nii.gz', 'FIS_014_01_0001.nii.gz', 'FIS_001_01_0001.nii.gz', 'REHEM_37_01_0001.nii.gz', 'REHEM_22_01_0001.nii.gz', 'REHEM_80_01_0000.nii.gz', 'REHEM_95_01_0000.nii.gz', 'FIS_102_01_0001.nii.gz', 'FIS_117_01_0001.nii.gz', 'REHEM_46_01_0001.nii.gz', 'REHEM_101_01_0001.nii.gz', 'REHEM_41_mask_def.nii.gz', 'REHEM_58_mask_def.nii.gz', 'FIS_041_01_0000.nii.gz', 'FIS_075_mask_def.nii.gz', 'FIS_078_01_0001.nii.gz', 'FIS_107_mask_def.nii.gz', 'REHEM_84_mask_def.nii.gz', 'FIS_025_01_0000.nii.gz', 'REHEM_22_mask_def.nii.gz', 'REHEM_13_01_0000.nii.gz', 'FIS_032_mask_def.nii.gz', 'REHEM_88_01_0000.nii.gz', 'FIS_094_mask_def.nii.gz', 'FIS_093_mask_def.nii.gz', 'REHEM_108_01_0001.nii.gz', 'REHEM_120_mask_def.nii.gz', 'REHEM_63_01_0000.nii.gz', 'FIS_055_01_0000.nii.gz', 'REHEM_18_mask_def.nii.gz', 'FIS_127_01_0000.nii.gz', 'FIS_072_mask_def.nii.gz', 'REHEM_12_01_0000.nii.gz', 'FIS_024_01_0000.nii.gz', 'FIS_031_01_0000.nii.gz', 'FIS_093_01_0001.nii.gz', 'FIS_086_01_0001.nii.gz', 'FIS_039_01_0000.nii.gz', 'REHEM_46_mask_def.nii.gz', 'FIS_116_01_0001.nii.gz', 'FIS_103_01_0001.nii.gz', 'REHEM_81_01_0000.nii.gz', 'FIS_119_mask_def.nii.gz', 'REHEM_23_01_0001.nii.gz', 'REHEM_36_01_0001.nii.gz', 'FIS_124_mask_def.nii.gz', 'REHEM_104_mask_def.nii.gz', 'FIS_071_01_0001.nii.gz', 'FIS_059_mask_def.nii.gz', 'FIS_116_mask_def.nii.gz', 'REHEM_74_mask_def.nii.gz', 'FIS_094_01_0001.nii.gz', 'REHEM_15_01_0000.nii.gz', 'FIS_119_01_0001.nii.gz', 'REHEM_95_mask_def.nii.gz', 'REHEM_39_01_0001.nii.gz', 'FIS_012_01_0001.nii.gz', 'FIS_007_01_0001.nii.gz', 'FIS_128_01_0000.nii.gz', 'REHEM_86_01_0000.nii.gz', 'REHEM_08_01_0000.nii.gz', 'FIS_104_01_0001.nii.gz', 'FIS_007_mask_def.nii.gz', 'REHEM_55_01_0001.nii.gz', 'REHEM_40_01_0001.nii.gz', 'REHEM_107_01_0001.nii.gz', 'REHEM_79_01_0000.nii.gz', 'REHEM_36_mask_def.nii.gz', 'REHEM_102_01_0000.nii.gz', 'REHEM_117_01_0000.nii.gz', 'FIS_066_01_0000.nii.gz', 'FIS_099_01_0000.nii.gz', 'REHEM_18_01_0001.nii.gz', 'FIS_061_mask_def.nii.gz', 'REHEM_21_01_0000.nii.gz', 'REHEM_34_01_0000.nii.gz', 'FIS_113_mask_def.nii.gz', 'FIS_017_01_0000.nii.gz', 'FIS_078_mask_def.nii.gz', 'FIS_033_01_0001.nii.gz', 'REHEM_55_mask_def.nii.gz', 'FIS_084_01_0000.nii.gz', 'REHEM_68_mask_def.nii.gz', 'REHEM_58_01_0000.nii.gz', 'REHEM_117_mask_def.nii.gz', 'FIS_099_mask_def.nii.gz', 'REHEM_12_mask_def.nii.gz', 'REHEM_74_01_0001.nii.gz', 'FIS_042_01_0001.nii.gz', 'FIS_061_01_0000.nii.gz', 'REHEM_42_01_0000.nii.gz', 'REHEM_67_mask_def.nii.gz', 'REHEM_110_01_0000.nii.gz', 'REHEM_105_01_0000.nii.gz', 'FIS_105_mask_def.nii.gz', 'FIS_005_01_0000.nii.gz', 'REHEM_20_mask_def.nii.gz', 'REHEM_86_mask_def.nii.gz', 'REHEM_84_01_0001.nii.gz', 'FIS_113_01_0000.nii.gz', 'REHEM_118_mask_def.nii.gz', 'FIS_096_mask_def.nii.gz', 'FIS_014_mask_def.nii.gz', 'FIS_096_01_0000.nii.gz', 'REHEM_101_mask_def.nii.gz', 'FIS_021_01_0001.nii.gz', 'REHEM_39_mask_def.nii.gz', 'REHEM_99_01_0001.nii.gz', 'FIS_122_01_0001.nii.gz', 'REHEM_121_01_0001.nii.gz', 'REHEM_118_01_0000.nii.gz', 'FIS_019_01_0000.nii.gz', 'REHEM_79_mask_def.nii.gz', 'REHEM_03_01_0001.nii.gz', 'REHEM_16_01_0001.nii.gz', 'FIS_020_01_0001.nii.gz', 'FIS_097_01_0000.nii.gz', 'FIS_082_01_0000.nii.gz', 'REHEM_03_mask_def.nii.gz', 'FIS_068_01_0000.nii.gz', 'REHEM_67_01_0001.nii.gz', 'FIS_044_01_0001.nii.gz', 'REHEM_106_mask_def.nii.gz', 'REHEM_120_01_0001.nii.gz', 'FIS_013_mask_def.nii.gz', 'FIS_088_mask_def.nii.gz', 'FIS_037_mask_def.nii.gz', 'FIS_059_01_0001.nii.gz', 'REHEM_104_01_0000.nii.gz', 'REHEM_111_01_0000.nii.gz', 'REHEM_81_mask_def.nii.gz', 'FIS_075_01_0000.nii.gz', 'FIS_102_mask_def.nii.gz', 'FIS_028_01_0001.nii.gz', 'FIS_107_01_0000.nii.gz', 'REHEM_60_mask_def.nii.gz', 'FIS_004_01_0000.nii.gz', 'FIS_090_01_0000.nii.gz', 'FIS_032_01_0001.nii.gz', 'REHEM_15_mask_def.nii.gz', 'FIS_005_mask_def.nii.gz', 'REHEM_110_mask_def.nii.gz', 'FIS_124_01_0001.nii.gz', 'FIS_043_01_0001.nii.gz', 'REHEM_75_01_0001.nii.gz', 'REHEM_60_01_0001.nii.gz', 'FIS_042_mask_def.nii.gz', 'REHEM_59_01_0000.nii.gz', 'FIS_072_01_0000.nii.gz', 'FIS_067_01_0000.nii.gz', 'FIS_066_mask_def.nii.gz', 'REHEM_68_01_0001.nii.gz', 'REHEM_35_01_0000.nii.gz', 'REHEM_20_01_0000.nii.gz', 'REHEM_82_01_0001.nii.gz', 'REHEM_97_01_0001.nii.gz', 'FIS_021_mask_def.nii.gz', 'FIS_098_01_0000.nii.gz', 'REHEM_97_mask_def.nii.gz', 'REHEM_99_mask_def.nii.gz', 'FIS_078_01_0000.nii.gz', 'FIS_041_01_0001.nii.gz', 'FIS_012_mask_def.nii.gz', 'REHEM_107_mask_def.nii.gz', 'REHEM_88_01_0001.nii.gz', 'FIS_025_01_0001.nii.gz', 'FIS_127_mask_def.nii.gz', 'REHEM_13_01_0001.nii.gz', 'FIS_068_mask_def.nii.gz', 'FIS_055_mask_def.nii.gz', 'FIS_071_mask_def.nii.gz', 'FIS_102_01_0000.nii.gz', 'FIS_117_01_0000.nii.gz', 'FIS_103_mask_def.nii.gz', 'REHEM_80_01_0001.nii.gz', 'REHEM_95_01_0001.nii.gz', 'FIS_014_01_0000.nii.gz', 'FIS_001_01_0000.nii.gz', 'REHEM_37_01_0000.nii.gz', 'REHEM_22_01_0000.nii.gz', 'FIS_090_mask_def.nii.gz', 'REHEM_80_mask_def.nii.gz', 'REHEM_101_01_0000.nii.gz', 'REHEM_46_01_0000.nii.gz', 'REHEM_70_01_0001.nii.gz', 'FIS_046_01_0001.nii.gz', 'FIS_043_mask_def.nii.gz', 'FIS_095_01_0000.nii.gz', 'FIS_118_01_0000.nii.gz', 'FIS_037_01_0001.nii.gz', 'REHEM_111_mask_def.nii.gz', 'FIS_004_mask_def.nii.gz', 'FIS_039_mask_def.nii.gz', 'FIS_086_mask_def.nii.gz', 'FIS_006_01_0000.nii.gz', 'FIS_013_01_0000.nii.gz', 'REHEM_108_mask_def.nii.gz', 'FIS_020_mask_def.nii.gz', 'REHEM_87_01_0001.nii.gz', 'FIS_110_01_0000.nii.gz', 'FIS_105_01_0000.nii.gz', 'FIS_088_01_0000.nii.gz', 'REHEM_41_01_0000.nii.gz', 'FIS_128_mask_def.nii.gz', 'REHEM_106_01_0000.nii.gz', 'REHEM_113_01_0000.nii.gz', 'FIS_067_mask_def.nii.gz', 'REHEM_08_01_0001.nii.gz', 'FIS_104_01_0000.nii.gz', 'REHEM_70_mask_def.nii.gz', 'REHEM_86_01_0001.nii.gz', 'FIS_012_01_0000.nii.gz', 'FIS_007_01_0000.nii.gz', 'FIS_128_01_0001.nii.gz', 'REHEM_79_01_0001.nii.gz', 'REHEM_37_mask_def.nii.gz', 'REHEM_107_01_0000.nii.gz', 'REHEM_55_01_0000.nii.gz', 'REHEM_40_01_0000.nii.gz', 'FIS_098_mask_def.nii.gz', 'REHEM_13_mask_def.nii.gz', 'REHEM_88_mask_def.nii.gz', 'REHEM_39_01_0000.nii.gz', 'FIS_044_mask_def.nii.gz', 'REHEM_15_01_0001.nii.gz', 'FIS_119_01_0000.nii.gz', 'FIS_094_01_0000.nii.gz', 'REHEM_23_01_0000.nii.gz', 'REHEM_36_01_0000.nii.gz', 'REHEM_21_mask_def.nii.gz', 'REHEM_87_mask_def.nii.gz', 'REHEM_81_01_0001.nii.gz', 'FIS_039_01_0001.nii.gz', 'FIS_097_mask_def.nii.gz', 'FIS_116_01_0000.nii.gz', 'FIS_103_01_0000.nii.gz', 'FIS_031_mask_def.nii.gz', 'FIS_071_01_0000.nii.gz', 'FIS_104_mask_def.nii.gz', 'REHEM_63_01_0001.nii.gz', 'FIS_055_01_0001.nii.gz', 'REHEM_108_01_0000.nii.gz', 'REHEM_42_mask_def.nii.gz', 'FIS_093_01_0000.nii.gz', 'FIS_086_01_0000.nii.gz', 'REHEM_12_01_0001.nii.gz', 'FIS_024_01_0001.nii.gz', 'FIS_031_01_0001.nii.gz', 'FIS_028_mask_def.nii.gz', 'FIS_127_01_0001.nii.gz']\n",
      "Total number of files: 351\n",
      "Total number of mask files: 117\n",
      "Total number of raw files: 234\n"
     ]
    }
   ],
   "source": [
    "print(ids)\n",
    "print(raw_files)\n",
    "print(mask_files)\n",
    "print(all_files_in_origin)\n",
    "print(f\"Total number of files: {len(all_files_in_origin)}\")\n",
    "print(f\"Total number of mask files: {len(mask_files)}\")\n",
    "print(f\"Total number of raw files: {len(raw_files)}\")"
   ]
  },
  {
   "cell_type": "code",
   "execution_count": 18,
   "metadata": {},
   "outputs": [],
   "source": [
    "label2newlabel = {\n",
    "        label: label.split(\".\")[0][:-9] + '_01.nii.gz' for label in mask_files\n",
    "    }\n"
   ]
  },
  {
   "cell_type": "code",
   "execution_count": null,
   "metadata": {},
   "outputs": [
    {
     "name": "stdout",
     "output_type": "stream",
     "text": [
      "{'REHEM_63_mask_def.nii.gz': 'REHEM_63_01.nii.gz', 'REHEM_121_mask_def.nii.gz': 'REHEM_121_01.nii.gz', 'REHEM_82_mask_def.nii.gz': 'REHEM_82_01.nii.gz', 'REHEM_105_mask_def.nii.gz': 'REHEM_105_01.nii.gz', 'FIS_118_mask_def.nii.gz': 'FIS_118_01.nii.gz', 'FIS_084_mask_def.nii.gz': 'FIS_084_01.nii.gz', 'FIS_117_mask_def.nii.gz': 'FIS_117_01.nii.gz', 'REHEM_75_mask_def.nii.gz': 'REHEM_75_01.nii.gz', 'FIS_041_mask_def.nii.gz': 'FIS_041_01.nii.gz', 'REHEM_16_mask_def.nii.gz': 'REHEM_16_01.nii.gz', 'REHEM_113_mask_def.nii.gz': 'REHEM_113_01.nii.gz', 'FIS_006_mask_def.nii.gz': 'FIS_006_01.nii.gz', 'FIS_001_mask_def.nii.gz': 'FIS_001_01.nii.gz', 'FIS_046_mask_def.nii.gz': 'FIS_046_01.nii.gz', 'FIS_110_mask_def.nii.gz': 'FIS_110_01.nii.gz', 'REHEM_35_mask_def.nii.gz': 'REHEM_35_01.nii.gz', 'REHEM_08_mask_def.nii.gz': 'REHEM_08_01.nii.gz', 'FIS_025_mask_def.nii.gz': 'FIS_025_01.nii.gz', 'FIS_122_mask_def.nii.gz': 'FIS_122_01.nii.gz', 'REHEM_40_mask_def.nii.gz': 'REHEM_40_01.nii.gz', 'REHEM_102_mask_def.nii.gz': 'REHEM_102_01.nii.gz', 'FIS_017_mask_def.nii.gz': 'FIS_017_01.nii.gz', 'REHEM_23_mask_def.nii.gz': 'REHEM_23_01.nii.gz', 'FIS_033_mask_def.nii.gz': 'FIS_033_01.nii.gz', 'FIS_095_mask_def.nii.gz': 'FIS_095_01.nii.gz', 'REHEM_59_mask_def.nii.gz': 'REHEM_59_01.nii.gz', 'REHEM_34_mask_def.nii.gz': 'REHEM_34_01.nii.gz', 'FIS_019_mask_def.nii.gz': 'FIS_019_01.nii.gz', 'FIS_082_mask_def.nii.gz': 'FIS_082_01.nii.gz', 'FIS_024_mask_def.nii.gz': 'FIS_024_01.nii.gz', 'REHEM_41_mask_def.nii.gz': 'REHEM_41_01.nii.gz', 'REHEM_58_mask_def.nii.gz': 'REHEM_58_01.nii.gz', 'FIS_075_mask_def.nii.gz': 'FIS_075_01.nii.gz', 'FIS_107_mask_def.nii.gz': 'FIS_107_01.nii.gz', 'REHEM_84_mask_def.nii.gz': 'REHEM_84_01.nii.gz', 'REHEM_22_mask_def.nii.gz': 'REHEM_22_01.nii.gz', 'FIS_032_mask_def.nii.gz': 'FIS_032_01.nii.gz', 'FIS_094_mask_def.nii.gz': 'FIS_094_01.nii.gz', 'FIS_093_mask_def.nii.gz': 'FIS_093_01.nii.gz', 'REHEM_120_mask_def.nii.gz': 'REHEM_120_01.nii.gz', 'REHEM_18_mask_def.nii.gz': 'REHEM_18_01.nii.gz', 'FIS_072_mask_def.nii.gz': 'FIS_072_01.nii.gz', 'REHEM_46_mask_def.nii.gz': 'REHEM_46_01.nii.gz', 'FIS_119_mask_def.nii.gz': 'FIS_119_01.nii.gz', 'FIS_124_mask_def.nii.gz': 'FIS_124_01.nii.gz', 'REHEM_104_mask_def.nii.gz': 'REHEM_104_01.nii.gz', 'FIS_059_mask_def.nii.gz': 'FIS_059_01.nii.gz', 'FIS_116_mask_def.nii.gz': 'FIS_116_01.nii.gz', 'REHEM_74_mask_def.nii.gz': 'REHEM_74_01.nii.gz', 'REHEM_95_mask_def.nii.gz': 'REHEM_95_01.nii.gz', 'FIS_007_mask_def.nii.gz': 'FIS_007_01.nii.gz', 'REHEM_36_mask_def.nii.gz': 'REHEM_36_01.nii.gz', 'FIS_061_mask_def.nii.gz': 'FIS_061_01.nii.gz', 'FIS_113_mask_def.nii.gz': 'FIS_113_01.nii.gz', 'FIS_078_mask_def.nii.gz': 'FIS_078_01.nii.gz', 'REHEM_55_mask_def.nii.gz': 'REHEM_55_01.nii.gz', 'REHEM_68_mask_def.nii.gz': 'REHEM_68_01.nii.gz', 'REHEM_117_mask_def.nii.gz': 'REHEM_117_01.nii.gz', 'FIS_099_mask_def.nii.gz': 'FIS_099_01.nii.gz', 'REHEM_12_mask_def.nii.gz': 'REHEM_12_01.nii.gz', 'REHEM_67_mask_def.nii.gz': 'REHEM_67_01.nii.gz', 'FIS_105_mask_def.nii.gz': 'FIS_105_01.nii.gz', 'REHEM_20_mask_def.nii.gz': 'REHEM_20_01.nii.gz', 'REHEM_86_mask_def.nii.gz': 'REHEM_86_01.nii.gz', 'REHEM_118_mask_def.nii.gz': 'REHEM_118_01.nii.gz', 'FIS_096_mask_def.nii.gz': 'FIS_096_01.nii.gz', 'FIS_014_mask_def.nii.gz': 'FIS_014_01.nii.gz', 'REHEM_101_mask_def.nii.gz': 'REHEM_101_01.nii.gz', 'REHEM_39_mask_def.nii.gz': 'REHEM_39_01.nii.gz', 'REHEM_79_mask_def.nii.gz': 'REHEM_79_01.nii.gz', 'REHEM_03_mask_def.nii.gz': 'REHEM_03_01.nii.gz', 'REHEM_106_mask_def.nii.gz': 'REHEM_106_01.nii.gz', 'FIS_013_mask_def.nii.gz': 'FIS_013_01.nii.gz', 'FIS_088_mask_def.nii.gz': 'FIS_088_01.nii.gz', 'FIS_037_mask_def.nii.gz': 'FIS_037_01.nii.gz', 'REHEM_81_mask_def.nii.gz': 'REHEM_81_01.nii.gz', 'FIS_102_mask_def.nii.gz': 'FIS_102_01.nii.gz', 'REHEM_60_mask_def.nii.gz': 'REHEM_60_01.nii.gz', 'REHEM_15_mask_def.nii.gz': 'REHEM_15_01.nii.gz', 'FIS_005_mask_def.nii.gz': 'FIS_005_01.nii.gz', 'REHEM_110_mask_def.nii.gz': 'REHEM_110_01.nii.gz', 'FIS_042_mask_def.nii.gz': 'FIS_042_01.nii.gz', 'FIS_066_mask_def.nii.gz': 'FIS_066_01.nii.gz', 'FIS_021_mask_def.nii.gz': 'FIS_021_01.nii.gz', 'REHEM_97_mask_def.nii.gz': 'REHEM_97_01.nii.gz', 'REHEM_99_mask_def.nii.gz': 'REHEM_99_01.nii.gz', 'FIS_012_mask_def.nii.gz': 'FIS_012_01.nii.gz', 'REHEM_107_mask_def.nii.gz': 'REHEM_107_01.nii.gz', 'FIS_127_mask_def.nii.gz': 'FIS_127_01.nii.gz', 'FIS_068_mask_def.nii.gz': 'FIS_068_01.nii.gz', 'FIS_055_mask_def.nii.gz': 'FIS_055_01.nii.gz', 'FIS_071_mask_def.nii.gz': 'FIS_071_01.nii.gz', 'FIS_103_mask_def.nii.gz': 'FIS_103_01.nii.gz', 'FIS_090_mask_def.nii.gz': 'FIS_090_01.nii.gz', 'REHEM_80_mask_def.nii.gz': 'REHEM_80_01.nii.gz', 'FIS_043_mask_def.nii.gz': 'FIS_043_01.nii.gz', 'REHEM_111_mask_def.nii.gz': 'REHEM_111_01.nii.gz', 'FIS_004_mask_def.nii.gz': 'FIS_004_01.nii.gz', 'FIS_039_mask_def.nii.gz': 'FIS_039_01.nii.gz', 'FIS_086_mask_def.nii.gz': 'FIS_086_01.nii.gz', 'REHEM_108_mask_def.nii.gz': 'REHEM_108_01.nii.gz', 'FIS_020_mask_def.nii.gz': 'FIS_020_01.nii.gz', 'FIS_128_mask_def.nii.gz': 'FIS_128_01.nii.gz', 'FIS_067_mask_def.nii.gz': 'FIS_067_01.nii.gz', 'REHEM_70_mask_def.nii.gz': 'REHEM_70_01.nii.gz', 'REHEM_37_mask_def.nii.gz': 'REHEM_37_01.nii.gz', 'FIS_098_mask_def.nii.gz': 'FIS_098_01.nii.gz', 'REHEM_13_mask_def.nii.gz': 'REHEM_13_01.nii.gz', 'REHEM_88_mask_def.nii.gz': 'REHEM_88_01.nii.gz', 'FIS_044_mask_def.nii.gz': 'FIS_044_01.nii.gz', 'REHEM_21_mask_def.nii.gz': 'REHEM_21_01.nii.gz', 'REHEM_87_mask_def.nii.gz': 'REHEM_87_01.nii.gz', 'FIS_097_mask_def.nii.gz': 'FIS_097_01.nii.gz', 'FIS_031_mask_def.nii.gz': 'FIS_031_01.nii.gz', 'FIS_104_mask_def.nii.gz': 'FIS_104_01.nii.gz', 'REHEM_42_mask_def.nii.gz': 'REHEM_42_01.nii.gz', 'FIS_028_mask_def.nii.gz': 'FIS_028_01.nii.gz'}\n"
     ]
    }
   ],
   "source": [
    "print(label2newlabel)"
   ]
  },
  {
   "cell_type": "code",
   "execution_count": 20,
   "metadata": {},
   "outputs": [],
   "source": [
    "for old_name, new_name in label2newlabel.items():\n",
    "    os.rename(NNUNetConfig().ORIGINAL_DATA_PATH / old_name, NNUNetConfig().ORIGINAL_DATA_PATH / new_name)"
   ]
  },
  {
   "cell_type": "code",
   "execution_count": 21,
   "metadata": {},
   "outputs": [],
   "source": [
    "for image in raw_files:\n",
    "        shutil.copy(NNUNetConfig().ORIGINAL_DATA_PATH / image, NNUNetConfig().train_images_dir / image)\n"
   ]
  },
  {
   "cell_type": "code",
   "execution_count": 22,
   "metadata": {},
   "outputs": [],
   "source": [
    "for mask in label2newlabel.values():\n",
    "    shutil.copy(NNUNetConfig().ORIGINAL_DATA_PATH / mask, NNUNetConfig().train_labels_dir / mask)"
   ]
  }
 ],
 "metadata": {
  "kernelspec": {
   "display_name": "TFM",
   "language": "python",
   "name": "python3"
  },
  "language_info": {
   "codemirror_mode": {
    "name": "ipython",
    "version": 3
   },
   "file_extension": ".py",
   "mimetype": "text/x-python",
   "name": "python",
   "nbconvert_exporter": "python",
   "pygments_lexer": "ipython3",
   "version": "3.10.15"
  }
 },
 "nbformat": 4,
 "nbformat_minor": 2
}
