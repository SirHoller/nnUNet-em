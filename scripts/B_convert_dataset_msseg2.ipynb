{
 "cells": [
  {
   "cell_type": "code",
   "execution_count": 1,
   "metadata": {},
   "outputs": [],
   "source": [
    "import json\n",
    "import os\n",
    "import sys\n",
    "import shutil"
   ]
  },
  {
   "cell_type": "code",
   "execution_count": 2,
   "metadata": {},
   "outputs": [],
   "source": [
    "os.chdir('..')\n"
   ]
  },
  {
   "cell_type": "code",
   "execution_count": 3,
   "metadata": {},
   "outputs": [
    {
     "data": {
      "text/plain": [
       "'c:\\\\Users\\\\mrtwe\\\\TFM\\\\nnUNet-em'"
      ]
     },
     "execution_count": 3,
     "metadata": {},
     "output_type": "execute_result"
    }
   ],
   "source": [
    "os.getcwd()\n"
   ]
  },
  {
   "cell_type": "code",
   "execution_count": 4,
   "metadata": {},
   "outputs": [],
   "source": [
    "from scripts.A_config import NNUNetMSSEG2Config, DatasetType"
   ]
  },
  {
   "cell_type": "code",
   "execution_count": 5,
   "metadata": {},
   "outputs": [],
   "source": [
    "try:\n",
    "    os.mkdir(NNUNetMSSEG2Config().dataset_raw_dir)\n",
    "except FileExistsError:\n",
    "    pass\n",
    "try:\n",
    "    os.mkdir(NNUNetMSSEG2Config().test_images_dir)\n",
    "except FileExistsError:\n",
    "    pass\n",
    "try:\n",
    "    os.mkdir(NNUNetMSSEG2Config().test_labels_dir)\n",
    "except FileExistsError:\n",
    "    pass"
   ]
  },
  {
   "cell_type": "code",
   "execution_count": 6,
   "metadata": {},
   "outputs": [
    {
     "name": "stdout",
     "output_type": "stream",
     "text": [
      "C:\\Users\\mrtwe\\TFM\\nnUNet-em\\NEW_LESIONS_CHALLENGE\n"
     ]
    }
   ],
   "source": [
    "print(NNUNetMSSEG2Config().ORIGINAL_DATA_PATH)"
   ]
  },
  {
   "cell_type": "code",
   "execution_count": 7,
   "metadata": {},
   "outputs": [],
   "source": [
    "all_files_in_origin = [file_name for file_name in os.listdir(NNUNetMSSEG2Config().ORIGINAL_DATA_PATH) if file_name.endswith(\".nii.gz\")]\n",
    "mask_files = [file_name for file_name in all_files_in_origin if \"mask\" in file_name]\n",
    "raw_files = [file_name for file_name in all_files_in_origin if \"mask\" not in file_name]\n",
    "\n"
   ]
  },
  {
   "cell_type": "code",
   "execution_count": 8,
   "metadata": {},
   "outputs": [
    {
     "name": "stdout",
     "output_type": "stream",
     "text": [
      "['013_time01_FL.nii.gz', '013_time02_FL.nii.gz', '015_time01_FL.nii.gz', '015_time02_FL.nii.gz', '016_time01_FL.nii.gz', '016_time02_FL.nii.gz', '018_time01_FL.nii.gz', '018_time02_FL.nii.gz', '019_time01_FL.nii.gz', '019_time02_FL.nii.gz', '020_time01_FL.nii.gz', '020_time02_FL.nii.gz', '021_time01_FL.nii.gz', '021_time02_FL.nii.gz', '024_time01_FL.nii.gz', '024_time02_FL.nii.gz', '026_time01_FL.nii.gz', '026_time02_FL.nii.gz', '027_time01_FL.nii.gz', '027_time02_FL.nii.gz', '029_time01_FL.nii.gz', '029_time02_FL.nii.gz', '030_time01_FL.nii.gz', '030_time02_FL.nii.gz', '032_time01_FL.nii.gz', '032_time02_FL.nii.gz', '035_time01_FL.nii.gz', '035_time02_FL.nii.gz', '037_time01_FL.nii.gz', '037_time02_FL.nii.gz', '039_time01_FL.nii.gz', '039_time02_FL.nii.gz', '043_time01_FL.nii.gz', '043_time02_FL.nii.gz', '047_time01_FL.nii.gz', '047_time02_FL.nii.gz', '048_time01_FL.nii.gz', '048_time02_FL.nii.gz', '049_time01_FL.nii.gz', '049_time02_FL.nii.gz', '051_time01_FL.nii.gz', '051_time02_FL.nii.gz', '052_time01_FL.nii.gz', '052_time02_FL.nii.gz', '057_time01_FL.nii.gz', '057_time02_FL.nii.gz', '061_time01_FL.nii.gz', '061_time02_FL.nii.gz', '068_time01_FL.nii.gz', '068_time02_FL.nii.gz', '069_time01_FL.nii.gz', '069_time02_FL.nii.gz', '070_time01_FL.nii.gz', '070_time02_FL.nii.gz', '074_time01_FL.nii.gz', '074_time02_FL.nii.gz', '077_time01_FL.nii.gz', '077_time02_FL.nii.gz', '083_time01_FL.nii.gz', '083_time02_FL.nii.gz', '084_time01_FL.nii.gz', '084_time02_FL.nii.gz', '088_time01_FL.nii.gz', '088_time02_FL.nii.gz', '089_time01_FL.nii.gz', '089_time02_FL.nii.gz', '090_time01_FL.nii.gz', '090_time02_FL.nii.gz', '091_time01_FL.nii.gz', '091_time02_FL.nii.gz', '094_time01_FL.nii.gz', '094_time02_FL.nii.gz', '095_time01_FL.nii.gz', '095_time02_FL.nii.gz', '096_time01_FL.nii.gz', '096_time02_FL.nii.gz', '099_time01_FL.nii.gz', '099_time02_FL.nii.gz', '100_time01_FL.nii.gz', '100_time02_FL.nii.gz', 'patient10_time01_FL.nii.gz', 'patient10_time02_FL.nii.gz', 'patient11_time01_FL.nii.gz', 'patient11_time02_FL.nii.gz', 'patient12_time01_FL.nii.gz', 'patient12_time02_FL.nii.gz', 'patient13_time01_FL.nii.gz', 'patient13_time02_FL.nii.gz', 'patient14_time01_FL.nii.gz', 'patient14_time02_FL.nii.gz', 'patient15_time01_FL.nii.gz', 'patient15_time02_FL.nii.gz', 'patient16_time01_FL.nii.gz', 'patient16_time02_FL.nii.gz', 'patient17_time01_FL.nii.gz', 'patient17_time02_FL.nii.gz', 'patient18_time01_FL.nii.gz', 'patient18_time02_FL.nii.gz', 'patient19_time01_FL.nii.gz', 'patient19_time02_FL.nii.gz', 'patient1_time01_FL.nii.gz', 'patient1_time02_FL.nii.gz', 'patient20_time01_FL.nii.gz', 'patient20_time02_FL.nii.gz', 'patient2_time01_FL.nii.gz', 'patient2_time02_FL.nii.gz', 'patient3_time01_FL.nii.gz', 'patient3_time02_FL.nii.gz', 'patient4_time01_FL.nii.gz', 'patient4_time02_FL.nii.gz', 'patient5_time01_FL.nii.gz', 'patient5_time02_FL.nii.gz', 'patient6_time01_FL.nii.gz', 'patient6_time02_FL.nii.gz', 'patient7_time01_FL.nii.gz', 'patient7_time02_FL.nii.gz', 'patient8_time01_FL.nii.gz', 'patient8_time02_FL.nii.gz', 'patient9_time01_FL.nii.gz', 'patient9_time02_FL.nii.gz']\n",
      "['013_mask.nii.gz', '015_mask.nii.gz', '016_mask.nii.gz', '018_mask.nii.gz', '019_mask.nii.gz', '020_mask.nii.gz', '021_mask.nii.gz', '024_mask.nii.gz', '026_mask.nii.gz', '027_mask.nii.gz', '029_mask.nii.gz', '030_mask.nii.gz', '032_mask.nii.gz', '035_mask.nii.gz', '037_mask.nii.gz', '039_mask.nii.gz', '043_mask.nii.gz', '047_mask.nii.gz', '048_mask.nii.gz', '049_mask.nii.gz', '051_mask.nii.gz', '052_mask.nii.gz', '057_mask.nii.gz', '061_mask.nii.gz', '068_mask.nii.gz', '069_mask.nii.gz', '070_mask.nii.gz', '074_mask.nii.gz', '077_mask.nii.gz', '083_mask.nii.gz', '084_mask.nii.gz', '088_mask.nii.gz', '089_mask.nii.gz', '090_mask.nii.gz', '091_mask.nii.gz', '094_mask.nii.gz', '095_mask.nii.gz', '096_mask.nii.gz', '099_mask.nii.gz', '100_mask.nii.gz', 'patient10_mask.nii.gz', 'patient11_mask.nii.gz', 'patient12_mask.nii.gz', 'patient13_mask.nii.gz', 'patient14_mask.nii.gz', 'patient15_mask.nii.gz', 'patient16_mask.nii.gz', 'patient17_mask.nii.gz', 'patient18_mask.nii.gz', 'patient19_mask.nii.gz', 'patient1_mask.nii.gz', 'patient20_mask.nii.gz', 'patient2_mask.nii.gz', 'patient3_mask.nii.gz', 'patient4_mask.nii.gz', 'patient5_mask.nii.gz', 'patient6_mask.nii.gz', 'patient7_mask.nii.gz', 'patient8_mask.nii.gz', 'patient9_mask.nii.gz']\n",
      "['013_mask.nii.gz', '013_time01_FL.nii.gz', '013_time02_FL.nii.gz', '015_mask.nii.gz', '015_time01_FL.nii.gz', '015_time02_FL.nii.gz', '016_mask.nii.gz', '016_time01_FL.nii.gz', '016_time02_FL.nii.gz', '018_mask.nii.gz', '018_time01_FL.nii.gz', '018_time02_FL.nii.gz', '019_mask.nii.gz', '019_time01_FL.nii.gz', '019_time02_FL.nii.gz', '020_mask.nii.gz', '020_time01_FL.nii.gz', '020_time02_FL.nii.gz', '021_mask.nii.gz', '021_time01_FL.nii.gz', '021_time02_FL.nii.gz', '024_mask.nii.gz', '024_time01_FL.nii.gz', '024_time02_FL.nii.gz', '026_mask.nii.gz', '026_time01_FL.nii.gz', '026_time02_FL.nii.gz', '027_mask.nii.gz', '027_time01_FL.nii.gz', '027_time02_FL.nii.gz', '029_mask.nii.gz', '029_time01_FL.nii.gz', '029_time02_FL.nii.gz', '030_mask.nii.gz', '030_time01_FL.nii.gz', '030_time02_FL.nii.gz', '032_mask.nii.gz', '032_time01_FL.nii.gz', '032_time02_FL.nii.gz', '035_mask.nii.gz', '035_time01_FL.nii.gz', '035_time02_FL.nii.gz', '037_mask.nii.gz', '037_time01_FL.nii.gz', '037_time02_FL.nii.gz', '039_mask.nii.gz', '039_time01_FL.nii.gz', '039_time02_FL.nii.gz', '043_mask.nii.gz', '043_time01_FL.nii.gz', '043_time02_FL.nii.gz', '047_mask.nii.gz', '047_time01_FL.nii.gz', '047_time02_FL.nii.gz', '048_mask.nii.gz', '048_time01_FL.nii.gz', '048_time02_FL.nii.gz', '049_mask.nii.gz', '049_time01_FL.nii.gz', '049_time02_FL.nii.gz', '051_mask.nii.gz', '051_time01_FL.nii.gz', '051_time02_FL.nii.gz', '052_mask.nii.gz', '052_time01_FL.nii.gz', '052_time02_FL.nii.gz', '057_mask.nii.gz', '057_time01_FL.nii.gz', '057_time02_FL.nii.gz', '061_mask.nii.gz', '061_time01_FL.nii.gz', '061_time02_FL.nii.gz', '068_mask.nii.gz', '068_time01_FL.nii.gz', '068_time02_FL.nii.gz', '069_mask.nii.gz', '069_time01_FL.nii.gz', '069_time02_FL.nii.gz', '070_mask.nii.gz', '070_time01_FL.nii.gz', '070_time02_FL.nii.gz', '074_mask.nii.gz', '074_time01_FL.nii.gz', '074_time02_FL.nii.gz', '077_mask.nii.gz', '077_time01_FL.nii.gz', '077_time02_FL.nii.gz', '083_mask.nii.gz', '083_time01_FL.nii.gz', '083_time02_FL.nii.gz', '084_mask.nii.gz', '084_time01_FL.nii.gz', '084_time02_FL.nii.gz', '088_mask.nii.gz', '088_time01_FL.nii.gz', '088_time02_FL.nii.gz', '089_mask.nii.gz', '089_time01_FL.nii.gz', '089_time02_FL.nii.gz', '090_mask.nii.gz', '090_time01_FL.nii.gz', '090_time02_FL.nii.gz', '091_mask.nii.gz', '091_time01_FL.nii.gz', '091_time02_FL.nii.gz', '094_mask.nii.gz', '094_time01_FL.nii.gz', '094_time02_FL.nii.gz', '095_mask.nii.gz', '095_time01_FL.nii.gz', '095_time02_FL.nii.gz', '096_mask.nii.gz', '096_time01_FL.nii.gz', '096_time02_FL.nii.gz', '099_mask.nii.gz', '099_time01_FL.nii.gz', '099_time02_FL.nii.gz', '100_mask.nii.gz', '100_time01_FL.nii.gz', '100_time02_FL.nii.gz', 'patient10_mask.nii.gz', 'patient10_time01_FL.nii.gz', 'patient10_time02_FL.nii.gz', 'patient11_mask.nii.gz', 'patient11_time01_FL.nii.gz', 'patient11_time02_FL.nii.gz', 'patient12_mask.nii.gz', 'patient12_time01_FL.nii.gz', 'patient12_time02_FL.nii.gz', 'patient13_mask.nii.gz', 'patient13_time01_FL.nii.gz', 'patient13_time02_FL.nii.gz', 'patient14_mask.nii.gz', 'patient14_time01_FL.nii.gz', 'patient14_time02_FL.nii.gz', 'patient15_mask.nii.gz', 'patient15_time01_FL.nii.gz', 'patient15_time02_FL.nii.gz', 'patient16_mask.nii.gz', 'patient16_time01_FL.nii.gz', 'patient16_time02_FL.nii.gz', 'patient17_mask.nii.gz', 'patient17_time01_FL.nii.gz', 'patient17_time02_FL.nii.gz', 'patient18_mask.nii.gz', 'patient18_time01_FL.nii.gz', 'patient18_time02_FL.nii.gz', 'patient19_mask.nii.gz', 'patient19_time01_FL.nii.gz', 'patient19_time02_FL.nii.gz', 'patient1_mask.nii.gz', 'patient1_time01_FL.nii.gz', 'patient1_time02_FL.nii.gz', 'patient20_mask.nii.gz', 'patient20_time01_FL.nii.gz', 'patient20_time02_FL.nii.gz', 'patient2_mask.nii.gz', 'patient2_time01_FL.nii.gz', 'patient2_time02_FL.nii.gz', 'patient3_mask.nii.gz', 'patient3_time01_FL.nii.gz', 'patient3_time02_FL.nii.gz', 'patient4_mask.nii.gz', 'patient4_time01_FL.nii.gz', 'patient4_time02_FL.nii.gz', 'patient5_mask.nii.gz', 'patient5_time01_FL.nii.gz', 'patient5_time02_FL.nii.gz', 'patient6_mask.nii.gz', 'patient6_time01_FL.nii.gz', 'patient6_time02_FL.nii.gz', 'patient7_mask.nii.gz', 'patient7_time01_FL.nii.gz', 'patient7_time02_FL.nii.gz', 'patient8_mask.nii.gz', 'patient8_time01_FL.nii.gz', 'patient8_time02_FL.nii.gz', 'patient9_mask.nii.gz', 'patient9_time01_FL.nii.gz', 'patient9_time02_FL.nii.gz']\n",
      "Total number of files: 180\n",
      "Total number of mask files: 60\n",
      "Total number of raw files: 120\n"
     ]
    }
   ],
   "source": [
    "print(raw_files)\n",
    "print(mask_files)\n",
    "print(all_files_in_origin)\n",
    "print(f\"Total number of files: {len(all_files_in_origin)}\")\n",
    "print(f\"Total number of mask files: {len(mask_files)}\")\n",
    "print(f\"Total number of raw files: {len(raw_files)}\")"
   ]
  },
  {
   "cell_type": "code",
   "execution_count": 9,
   "metadata": {},
   "outputs": [],
   "source": [
    "import re\n",
    "import nibabel as nib\n",
    "for file_name in raw_files:\n",
    "    prefix, time_point, suffix = re.findall(r\"^(.*?)_time(\\d+)_FL(\\.nii\\.gz)$\", file_name)[0]\n",
    "    new_file = f\"{prefix}_{str(int(time_point) - 1).zfill(4)}{suffix}\"\n",
    "    os.rename(NNUNetMSSEG2Config().ORIGINAL_DATA_PATH / file_name, NNUNetMSSEG2Config().ORIGINAL_DATA_PATH / new_file)\n",
    "    \n",
    "for file_name in mask_files:\n",
    "    nibabel_file = nib.load(NNUNetMSSEG2Config().ORIGINAL_DATA_PATH / file_name)\n",
    "    segmentation = nibabel_file.get_fdata()\n",
    "    segmentation[segmentation == 1] = 2\n",
    "    new_segmentation = nib.Nifti1Image(segmentation, nibabel_file.affine, nibabel_file.header)\n",
    "    nib.save(new_segmentation, NNUNetMSSEG2Config().ORIGINAL_DATA_PATH / file_name)\n",
    "    "
   ]
  },
  {
   "cell_type": "code",
   "execution_count": 10,
   "metadata": {},
   "outputs": [],
   "source": [
    "all_files_in_origin = [file_name for file_name in os.listdir(NNUNetMSSEG2Config().ORIGINAL_DATA_PATH) if file_name.endswith(\".nii.gz\")]\n",
    "mask_files = [file_name for file_name in all_files_in_origin if \"mask\" in file_name]\n",
    "raw_files = [file_name for file_name in all_files_in_origin if \"mask\" not in file_name]"
   ]
  },
  {
   "cell_type": "code",
   "execution_count": 11,
   "metadata": {},
   "outputs": [
    {
     "name": "stdout",
     "output_type": "stream",
     "text": [
      "['013_mask.nii.gz', '015_mask.nii.gz', '016_mask.nii.gz', '018_mask.nii.gz', '019_mask.nii.gz', '020_mask.nii.gz', '021_mask.nii.gz', '024_mask.nii.gz', '026_mask.nii.gz', '027_mask.nii.gz', '029_mask.nii.gz', '030_mask.nii.gz', '032_mask.nii.gz', '035_mask.nii.gz', '037_mask.nii.gz', '039_mask.nii.gz', '043_mask.nii.gz', '047_mask.nii.gz', '048_mask.nii.gz', '049_mask.nii.gz', '051_mask.nii.gz', '052_mask.nii.gz', '057_mask.nii.gz', '061_mask.nii.gz', '068_mask.nii.gz', '069_mask.nii.gz', '070_mask.nii.gz', '074_mask.nii.gz', '077_mask.nii.gz', '083_mask.nii.gz', '084_mask.nii.gz', '088_mask.nii.gz', '089_mask.nii.gz', '090_mask.nii.gz', '091_mask.nii.gz', '094_mask.nii.gz', '095_mask.nii.gz', '096_mask.nii.gz', '099_mask.nii.gz', '100_mask.nii.gz', 'patient10_mask.nii.gz', 'patient11_mask.nii.gz', 'patient12_mask.nii.gz', 'patient13_mask.nii.gz', 'patient14_mask.nii.gz', 'patient15_mask.nii.gz', 'patient16_mask.nii.gz', 'patient17_mask.nii.gz', 'patient18_mask.nii.gz', 'patient19_mask.nii.gz', 'patient1_mask.nii.gz', 'patient20_mask.nii.gz', 'patient2_mask.nii.gz', 'patient3_mask.nii.gz', 'patient4_mask.nii.gz', 'patient5_mask.nii.gz', 'patient6_mask.nii.gz', 'patient7_mask.nii.gz', 'patient8_mask.nii.gz', 'patient9_mask.nii.gz']\n"
     ]
    }
   ],
   "source": [
    "print(mask_files)"
   ]
  },
  {
   "cell_type": "code",
   "execution_count": 12,
   "metadata": {},
   "outputs": [],
   "source": [
    "# # Extracting ids:\n",
    "ids = [file_name.split(\".\")[0][:-5] for file_name in mask_files]"
   ]
  },
  {
   "cell_type": "code",
   "execution_count": 13,
   "metadata": {},
   "outputs": [
    {
     "name": "stdout",
     "output_type": "stream",
     "text": [
      "['013', '015', '016', '018', '019', '020', '021', '024', '026', '027', '029', '030', '032', '035', '037', '039', '043', '047', '048', '049', '051', '052', '057', '061', '068', '069', '070', '074', '077', '083', '084', '088', '089', '090', '091', '094', '095', '096', '099', '100', 'patient10', 'patient11', 'patient12', 'patient13', 'patient14', 'patient15', 'patient16', 'patient17', 'patient18', 'patient19', 'patient1', 'patient20', 'patient2', 'patient3', 'patient4', 'patient5', 'patient6', 'patient7', 'patient8', 'patient9']\n"
     ]
    }
   ],
   "source": [
    "print(ids)"
   ]
  },
  {
   "cell_type": "code",
   "execution_count": 14,
   "metadata": {},
   "outputs": [],
   "source": [
    "label2newlabel = {\n",
    "        label: label.split(\".\")[0][:-5] + '_01.nii.gz' for label in mask_files\n",
    "    }"
   ]
  },
  {
   "cell_type": "code",
   "execution_count": 15,
   "metadata": {},
   "outputs": [
    {
     "name": "stdout",
     "output_type": "stream",
     "text": [
      "{'013_mask.nii.gz': '013_01.nii.gz', '015_mask.nii.gz': '015_01.nii.gz', '016_mask.nii.gz': '016_01.nii.gz', '018_mask.nii.gz': '018_01.nii.gz', '019_mask.nii.gz': '019_01.nii.gz', '020_mask.nii.gz': '020_01.nii.gz', '021_mask.nii.gz': '021_01.nii.gz', '024_mask.nii.gz': '024_01.nii.gz', '026_mask.nii.gz': '026_01.nii.gz', '027_mask.nii.gz': '027_01.nii.gz', '029_mask.nii.gz': '029_01.nii.gz', '030_mask.nii.gz': '030_01.nii.gz', '032_mask.nii.gz': '032_01.nii.gz', '035_mask.nii.gz': '035_01.nii.gz', '037_mask.nii.gz': '037_01.nii.gz', '039_mask.nii.gz': '039_01.nii.gz', '043_mask.nii.gz': '043_01.nii.gz', '047_mask.nii.gz': '047_01.nii.gz', '048_mask.nii.gz': '048_01.nii.gz', '049_mask.nii.gz': '049_01.nii.gz', '051_mask.nii.gz': '051_01.nii.gz', '052_mask.nii.gz': '052_01.nii.gz', '057_mask.nii.gz': '057_01.nii.gz', '061_mask.nii.gz': '061_01.nii.gz', '068_mask.nii.gz': '068_01.nii.gz', '069_mask.nii.gz': '069_01.nii.gz', '070_mask.nii.gz': '070_01.nii.gz', '074_mask.nii.gz': '074_01.nii.gz', '077_mask.nii.gz': '077_01.nii.gz', '083_mask.nii.gz': '083_01.nii.gz', '084_mask.nii.gz': '084_01.nii.gz', '088_mask.nii.gz': '088_01.nii.gz', '089_mask.nii.gz': '089_01.nii.gz', '090_mask.nii.gz': '090_01.nii.gz', '091_mask.nii.gz': '091_01.nii.gz', '094_mask.nii.gz': '094_01.nii.gz', '095_mask.nii.gz': '095_01.nii.gz', '096_mask.nii.gz': '096_01.nii.gz', '099_mask.nii.gz': '099_01.nii.gz', '100_mask.nii.gz': '100_01.nii.gz', 'patient10_mask.nii.gz': 'patient10_01.nii.gz', 'patient11_mask.nii.gz': 'patient11_01.nii.gz', 'patient12_mask.nii.gz': 'patient12_01.nii.gz', 'patient13_mask.nii.gz': 'patient13_01.nii.gz', 'patient14_mask.nii.gz': 'patient14_01.nii.gz', 'patient15_mask.nii.gz': 'patient15_01.nii.gz', 'patient16_mask.nii.gz': 'patient16_01.nii.gz', 'patient17_mask.nii.gz': 'patient17_01.nii.gz', 'patient18_mask.nii.gz': 'patient18_01.nii.gz', 'patient19_mask.nii.gz': 'patient19_01.nii.gz', 'patient1_mask.nii.gz': 'patient1_01.nii.gz', 'patient20_mask.nii.gz': 'patient20_01.nii.gz', 'patient2_mask.nii.gz': 'patient2_01.nii.gz', 'patient3_mask.nii.gz': 'patient3_01.nii.gz', 'patient4_mask.nii.gz': 'patient4_01.nii.gz', 'patient5_mask.nii.gz': 'patient5_01.nii.gz', 'patient6_mask.nii.gz': 'patient6_01.nii.gz', 'patient7_mask.nii.gz': 'patient7_01.nii.gz', 'patient8_mask.nii.gz': 'patient8_01.nii.gz', 'patient9_mask.nii.gz': 'patient9_01.nii.gz'}\n"
     ]
    }
   ],
   "source": [
    "print(label2newlabel)"
   ]
  },
  {
   "cell_type": "code",
   "execution_count": 16,
   "metadata": {},
   "outputs": [],
   "source": [
    "for old_name, new_name in label2newlabel.items():\n",
    "    os.rename(NNUNetMSSEG2Config().ORIGINAL_DATA_PATH / old_name, NNUNetMSSEG2Config().ORIGINAL_DATA_PATH / new_name)"
   ]
  },
  {
   "cell_type": "code",
   "execution_count": 17,
   "metadata": {},
   "outputs": [],
   "source": [
    "for image in raw_files:\n",
    "        shutil.copy(NNUNetMSSEG2Config().ORIGINAL_DATA_PATH / image, NNUNetMSSEG2Config().test_images_dir / image)\n"
   ]
  },
  {
   "cell_type": "code",
   "execution_count": 18,
   "metadata": {},
   "outputs": [],
   "source": [
    "for mask in label2newlabel.values():\n",
    "    shutil.copy(NNUNetMSSEG2Config().ORIGINAL_DATA_PATH / mask, NNUNetMSSEG2Config().test_labels_dir / mask)"
   ]
  }
 ],
 "metadata": {
  "kernelspec": {
   "display_name": "TFM",
   "language": "python",
   "name": "python3"
  },
  "language_info": {
   "codemirror_mode": {
    "name": "ipython",
    "version": 3
   },
   "file_extension": ".py",
   "mimetype": "text/x-python",
   "name": "python",
   "nbconvert_exporter": "python",
   "pygments_lexer": "ipython3",
   "version": "3.10.15"
  }
 },
 "nbformat": 4,
 "nbformat_minor": 2
}
