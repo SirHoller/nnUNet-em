{
 "cells": [
  {
   "cell_type": "code",
   "execution_count": 1,
   "metadata": {},
   "outputs": [],
   "source": [
    "#%pip install batchgeneratorsv2\n",
    "\n",
    "import torch\n",
    "\n",
    "import os"
   ]
  },
  {
   "cell_type": "code",
   "execution_count": 2,
   "metadata": {},
   "outputs": [],
   "source": [
    "os.chdir('..')"
   ]
  },
  {
   "cell_type": "code",
   "execution_count": 3,
   "metadata": {},
   "outputs": [
    {
     "data": {
      "text/plain": [
       "'c:\\\\Users\\\\mrtwe\\\\TFM\\\\nnUNet-em'"
      ]
     },
     "execution_count": 3,
     "metadata": {},
     "output_type": "execute_result"
    }
   ],
   "source": [
    "os.getcwd()"
   ]
  },
  {
   "cell_type": "code",
   "execution_count": 4,
   "metadata": {},
   "outputs": [
    {
     "name": "stdout",
     "output_type": "stream",
     "text": [
      "Environment variables set: nnUNet_raw, nnUNet_preprocessed, nnUNet_results\n",
      "C:\\Users\\mrtwe\\TFM\\nnUNet-em\\nnUNet_raw_data\n",
      "C:\\Users\\mrtwe\\TFM\\nnUNet-em\\nnUNet_preprocessed_data\n",
      "C:\\Users\\mrtwe\\TFM\\nnUNet-em\\nnUNet_results\n"
     ]
    }
   ],
   "source": [
    "from scripts.A_config import NNUNetConfig, DatasetType\n",
    "NNUNetConfig().export_paths_to_env()\n"
   ]
  },
  {
   "cell_type": "code",
   "execution_count": 5,
   "metadata": {},
   "outputs": [],
   "source": [
    "from nnunetv2.run.run_training import run_training"
   ]
  },
  {
   "cell_type": "code",
   "execution_count": 6,
   "metadata": {},
   "outputs": [
    {
     "name": "stdout",
     "output_type": "stream",
     "text": [
      "El entorno utiliza:  cuda\n"
     ]
    }
   ],
   "source": [
    "# Comprobación de entorno con gpu\n",
    "device = torch.device(\"cuda\" if torch.cuda.is_available() else \"cpu\")\n",
    "print(\"El entorno utiliza: \", device)\n",
    "# # Comprobación de entorno con gpu M1\n",
    "# device = torch.device(\"mps\" if torch.backends.mps.is_available() else \"cpu\")\n",
    "# print(\"El entorno utiliza: \", device)"
   ]
  },
  {
   "cell_type": "code",
   "execution_count": 7,
   "metadata": {},
   "outputs": [],
   "source": [
    "torch.set_num_threads(1)\n",
    "torch.set_num_interop_threads(1)\n"
   ]
  },
  {
   "cell_type": "code",
   "execution_count": 8,
   "metadata": {},
   "outputs": [
    {
     "name": "stdout",
     "output_type": "stream",
     "text": [
      "\n",
      "############################\n",
      "INFO: You are using the old nnU-Net default plans. We have updated our recommendations. Please consider using those instead! Read more here: https://github.com/MIC-DKFZ/nnUNet/blob/master/documentation/resenc_presets.md\n",
      "############################\n",
      "\n",
      "Using device: cuda:0\n",
      "2024-12-11 18:04:26.419244: Ignore previous message about oversample_foreground_percent. oversample_foreground_percent overwritten to 0.33\n",
      "\n",
      "#######################################################################\n",
      "Please cite the following paper when using nnU-Net:\n",
      "Isensee, F., Jaeger, P. F., Kohl, S. A., Petersen, J., & Maier-Hein, K. H. (2021). nnU-Net: a self-configuring method for deep learning-based biomedical image segmentation. Nature methods, 18(2), 203-211.\n",
      "#######################################################################\n",
      "\n",
      "2024-12-11 18:04:26.427186: Using early stopping with patience: 100\n",
      "2024-12-11 18:04:26.428753: self.oversample_foreground_percent 0.5\n",
      "2024-12-11 18:04:26.433958: self.oversample_foreground_percent 1.0\n"
     ]
    },
    {
     "name": "stderr",
     "output_type": "stream",
     "text": [
      "c:\\Users\\mrtwe\\TFM\\nnUNet-em\\nnunetv2\\training\\nnUNetTrainer\\nnUNetTrainer.py:164: FutureWarning: `torch.cuda.amp.GradScaler(args...)` is deprecated. Please use `torch.amp.GradScaler('cuda', args...)` instead.\n",
      "  self.grad_scaler = GradScaler() if self.device.type == 'cuda' else None\n",
      "c:\\Users\\mrtwe\\miniforge3\\envs\\TFM\\lib\\site-packages\\torch\\optim\\lr_scheduler.py:62: UserWarning: The verbose parameter is deprecated. Please use get_last_lr() to access the learning rate.\n",
      "  warnings.warn(\n",
      "c:\\Users\\mrtwe\\TFM\\nnUNet-em\\nnunetv2\\training\\nnUNetTrainer\\nnUNetTrainer.py:1184: FutureWarning: You are using `torch.load` with `weights_only=False` (the current default value), which uses the default pickle module implicitly. It is possible to construct malicious pickle data which will execute arbitrary code during unpickling (See https://github.com/pytorch/pytorch/blob/main/SECURITY.md#untrusted-models for more details). In a future release, the default value for `weights_only` will be flipped to `True`. This limits the functions that could be executed during unpickling. Arbitrary objects will no longer be allowed to be loaded via this mode unless they are explicitly allowlisted by the user via `torch.serialization.add_safe_globals`. We recommend you start setting `weights_only=True` for any use case where you don't have full control of the loaded file. Please open an issue on GitHub for any issues related to this experimental feature.\n",
      "  checkpoint = torch.load(filename_or_checkpoint, map_location=self.device)\n"
     ]
    },
    {
     "name": "stdout",
     "output_type": "stream",
     "text": [
      "2024-12-11 18:04:27.565206: Using splits from existing split file: C:\\Users\\mrtwe\\TFM\\nnUNet-em\\nnUNet_preprocessed_data\\Dataset100_NewLesions\\splits_final.json\n",
      "2024-12-11 18:04:27.565206: The split file contains 5 splits.\n",
      "2024-12-11 18:04:27.572276: Desired fold for training: 0\n",
      "2024-12-11 18:04:27.579096: This split has 64 training and 17 validation cases.\n",
      "2024-12-11 18:04:27.579096: predicting FIS_006_01\n",
      "2024-12-11 18:04:27.589734: FIS_006_01, shape torch.Size([2, 182, 218, 182]), rank 0\n",
      "2024-12-11 18:04:31.676463: predicting FIS_012_01\n",
      "2024-12-11 18:04:31.683549: FIS_012_01, shape torch.Size([2, 182, 218, 182]), rank 0\n",
      "2024-12-11 18:04:34.745987: predicting FIS_019_01\n",
      "2024-12-11 18:04:34.759982: FIS_019_01, shape torch.Size([2, 182, 218, 182]), rank 0\n",
      "2024-12-11 18:04:37.810465: predicting FIS_043_01\n",
      "2024-12-11 18:04:37.830597: FIS_043_01, shape torch.Size([2, 182, 218, 182]), rank 0\n",
      "2024-12-11 18:04:40.850116: predicting FIS_059_01\n",
      "2024-12-11 18:04:40.862210: FIS_059_01, shape torch.Size([2, 182, 218, 182]), rank 0\n",
      "2024-12-11 18:04:43.881197: predicting FIS_071_01\n",
      "2024-12-11 18:04:43.892035: FIS_071_01, shape torch.Size([2, 182, 218, 182]), rank 0\n",
      "2024-12-11 18:04:46.905906: predicting FIS_105_01\n",
      "2024-12-11 18:04:46.913137: FIS_105_01, shape torch.Size([2, 182, 218, 182]), rank 0\n",
      "2024-12-11 18:04:49.934988: predicting FIS_113_01\n",
      "2024-12-11 18:04:49.945887: FIS_113_01, shape torch.Size([2, 182, 218, 182]), rank 0\n",
      "2024-12-11 18:04:52.959965: predicting REHEM_104_01\n",
      "2024-12-11 18:04:52.968923: REHEM_104_01, shape torch.Size([2, 182, 218, 182]), rank 0\n",
      "2024-12-11 18:04:55.987836: predicting REHEM_106_01\n",
      "2024-12-11 18:04:55.998708: REHEM_106_01, shape torch.Size([2, 182, 218, 182]), rank 0\n",
      "2024-12-11 18:04:59.017761: predicting REHEM_110_01\n",
      "2024-12-11 18:04:59.024862: REHEM_110_01, shape torch.Size([2, 182, 218, 182]), rank 0\n",
      "2024-12-11 18:05:02.054494: predicting REHEM_111_01\n",
      "2024-12-11 18:05:02.066557: REHEM_111_01, shape torch.Size([2, 182, 218, 182]), rank 0\n",
      "2024-12-11 18:05:05.087357: predicting REHEM_113_01\n",
      "2024-12-11 18:05:05.100300: REHEM_113_01, shape torch.Size([2, 182, 218, 182]), rank 0\n",
      "2024-12-11 18:05:08.123087: predicting REHEM_12_01\n",
      "2024-12-11 18:05:08.129326: REHEM_12_01, shape torch.Size([2, 182, 218, 182]), rank 0\n",
      "2024-12-11 18:05:11.154254: predicting REHEM_20_01\n",
      "2024-12-11 18:05:11.164122: REHEM_20_01, shape torch.Size([2, 182, 218, 182]), rank 0\n",
      "2024-12-11 18:05:14.184942: predicting REHEM_46_01\n",
      "2024-12-11 18:05:14.201863: REHEM_46_01, shape torch.Size([2, 182, 218, 182]), rank 0\n",
      "2024-12-11 18:05:17.226867: predicting REHEM_97_01\n",
      "2024-12-11 18:05:17.237702: REHEM_97_01, shape torch.Size([2, 182, 218, 182]), rank 0\n",
      "2024-12-11 18:05:23.185192: Validation complete\n",
      "2024-12-11 18:05:23.192252: Mean Validation Dice:  0.4471817345826269\n"
     ]
    }
   ],
   "source": [
    "# NNUNetConfig().export_paths_to_env()\n",
    "\n",
    "run_training(\n",
    "        dataset_name_or_id=\"100\",\n",
    "        fold=\"0\",\n",
    "        device=device,\n",
    "        configuration=NNUNetConfig().CONFIGURATION,\n",
    "        trainer_class_name=\"nnUNetTrainerCustomOversamplingEarlyStopping\",\n",
    "        export_validation_probabilities=False,\n",
    "        only_run_validation=True,\n",
    "        val_with_best=True\n",
    "    )"
   ]
  },
  {
   "cell_type": "code",
   "execution_count": 9,
   "metadata": {},
   "outputs": [
    {
     "name": "stdout",
     "output_type": "stream",
     "text": [
      "\n",
      "############################\n",
      "INFO: You are using the old nnU-Net default plans. We have updated our recommendations. Please consider using those instead! Read more here: https://github.com/MIC-DKFZ/nnUNet/blob/master/documentation/resenc_presets.md\n",
      "############################\n",
      "\n",
      "Using device: cuda:0\n",
      "2024-12-11 18:05:23.223917: Ignore previous message about oversample_foreground_percent. oversample_foreground_percent overwritten to 0.33\n",
      "\n",
      "#######################################################################\n",
      "Please cite the following paper when using nnU-Net:\n",
      "Isensee, F., Jaeger, P. F., Kohl, S. A., Petersen, J., & Maier-Hein, K. H. (2021). nnU-Net: a self-configuring method for deep learning-based biomedical image segmentation. Nature methods, 18(2), 203-211.\n",
      "#######################################################################\n",
      "\n",
      "2024-12-11 18:05:23.228859: Using early stopping with patience: 100\n",
      "2024-12-11 18:05:23.233112: self.oversample_foreground_percent 0.5\n",
      "2024-12-11 18:05:23.236608: self.oversample_foreground_percent 1.0\n"
     ]
    },
    {
     "name": "stderr",
     "output_type": "stream",
     "text": [
      "c:\\Users\\mrtwe\\TFM\\nnUNet-em\\nnunetv2\\training\\nnUNetTrainer\\nnUNetTrainer.py:164: FutureWarning: `torch.cuda.amp.GradScaler(args...)` is deprecated. Please use `torch.amp.GradScaler('cuda', args...)` instead.\n",
      "  self.grad_scaler = GradScaler() if self.device.type == 'cuda' else None\n",
      "c:\\Users\\mrtwe\\miniforge3\\envs\\TFM\\lib\\site-packages\\torch\\optim\\lr_scheduler.py:62: UserWarning: The verbose parameter is deprecated. Please use get_last_lr() to access the learning rate.\n",
      "  warnings.warn(\n",
      "c:\\Users\\mrtwe\\TFM\\nnUNet-em\\nnunetv2\\training\\nnUNetTrainer\\nnUNetTrainer.py:1184: FutureWarning: You are using `torch.load` with `weights_only=False` (the current default value), which uses the default pickle module implicitly. It is possible to construct malicious pickle data which will execute arbitrary code during unpickling (See https://github.com/pytorch/pytorch/blob/main/SECURITY.md#untrusted-models for more details). In a future release, the default value for `weights_only` will be flipped to `True`. This limits the functions that could be executed during unpickling. Arbitrary objects will no longer be allowed to be loaded via this mode unless they are explicitly allowlisted by the user via `torch.serialization.add_safe_globals`. We recommend you start setting `weights_only=True` for any use case where you don't have full control of the loaded file. Please open an issue on GitHub for any issues related to this experimental feature.\n",
      "  checkpoint = torch.load(filename_or_checkpoint, map_location=self.device)\n"
     ]
    },
    {
     "name": "stdout",
     "output_type": "stream",
     "text": [
      "2024-12-11 18:05:24.364713: Using splits from existing split file: C:\\Users\\mrtwe\\TFM\\nnUNet-em\\nnUNet_preprocessed_data\\Dataset100_NewLesions\\splits_final.json\n",
      "2024-12-11 18:05:24.376718: The split file contains 5 splits.\n",
      "2024-12-11 18:05:24.376718: Desired fold for training: 1\n",
      "2024-12-11 18:05:24.376718: This split has 65 training and 16 validation cases.\n",
      "2024-12-11 18:05:24.376718: predicting FIS_004_01\n",
      "2024-12-11 18:05:24.392389: FIS_004_01, shape torch.Size([2, 182, 218, 182]), rank 0\n",
      "2024-12-11 18:05:27.842189: predicting FIS_028_01\n",
      "2024-12-11 18:05:27.857815: FIS_028_01, shape torch.Size([2, 182, 218, 182]), rank 0\n",
      "2024-12-11 18:05:30.908137: predicting FIS_044_01\n",
      "2024-12-11 18:05:30.923764: FIS_044_01, shape torch.Size([2, 182, 218, 182]), rank 0\n",
      "2024-12-11 18:05:33.978525: predicting FIS_046_01\n",
      "2024-12-11 18:05:33.984243: FIS_046_01, shape torch.Size([2, 182, 218, 182]), rank 0\n",
      "2024-12-11 18:05:36.997452: predicting FIS_061_01\n",
      "2024-12-11 18:05:37.005191: FIS_061_01, shape torch.Size([2, 182, 218, 182]), rank 0\n",
      "2024-12-11 18:05:40.019317: predicting FIS_068_01\n",
      "2024-12-11 18:05:40.026480: FIS_068_01, shape torch.Size([2, 182, 218, 182]), rank 0\n",
      "2024-12-11 18:05:43.037334: predicting FIS_072_01\n",
      "2024-12-11 18:05:43.047111: FIS_072_01, shape torch.Size([2, 182, 218, 182]), rank 0\n",
      "2024-12-11 18:05:46.057302: predicting FIS_124_01\n",
      "2024-12-11 18:05:46.068381: FIS_124_01, shape torch.Size([2, 182, 218, 182]), rank 0\n",
      "2024-12-11 18:05:49.068526: predicting REHEM_03_01\n",
      "2024-12-11 18:05:49.083250: REHEM_03_01, shape torch.Size([2, 182, 218, 182]), rank 0\n",
      "2024-12-11 18:05:52.089152: predicting REHEM_105_01\n",
      "2024-12-11 18:05:52.101273: REHEM_105_01, shape torch.Size([2, 182, 218, 182]), rank 0\n",
      "2024-12-11 18:05:55.110131: predicting REHEM_118_01\n",
      "2024-12-11 18:05:55.121211: REHEM_118_01, shape torch.Size([2, 182, 218, 182]), rank 0\n",
      "2024-12-11 18:05:58.135193: predicting REHEM_42_01\n",
      "2024-12-11 18:05:58.144961: REHEM_42_01, shape torch.Size([2, 182, 218, 182]), rank 0\n",
      "2024-12-11 18:06:01.161761: predicting REHEM_59_01\n",
      "2024-12-11 18:06:01.172055: REHEM_59_01, shape torch.Size([2, 182, 218, 182]), rank 0\n",
      "2024-12-11 18:06:04.193966: predicting REHEM_75_01\n",
      "2024-12-11 18:06:04.205921: REHEM_75_01, shape torch.Size([2, 182, 218, 182]), rank 0\n",
      "2024-12-11 18:06:07.222928: predicting REHEM_87_01\n",
      "2024-12-11 18:06:07.228946: REHEM_87_01, shape torch.Size([2, 182, 218, 182]), rank 0\n",
      "2024-12-11 18:06:10.249658: predicting REHEM_88_01\n",
      "2024-12-11 18:06:10.263842: REHEM_88_01, shape torch.Size([2, 182, 218, 182]), rank 0\n",
      "2024-12-11 18:06:16.196460: Validation complete\n",
      "2024-12-11 18:06:16.201416: Mean Validation Dice:  0.3623456420932266\n"
     ]
    }
   ],
   "source": [
    "# NNUNetConfig().export_paths_to_env()\n",
    "\n",
    "run_training(\n",
    "        dataset_name_or_id=\"100\",\n",
    "        fold=\"1\",\n",
    "        device=device,\n",
    "        configuration=NNUNetConfig().CONFIGURATION,\n",
    "        trainer_class_name=\"nnUNetTrainerCustomOversamplingEarlyStopping\",\n",
    "        export_validation_probabilities=False,\n",
    "        only_run_validation=True,\n",
    "        val_with_best=True\n",
    "    )"
   ]
  },
  {
   "cell_type": "code",
   "execution_count": 10,
   "metadata": {},
   "outputs": [
    {
     "name": "stdout",
     "output_type": "stream",
     "text": [
      "\n",
      "############################\n",
      "INFO: You are using the old nnU-Net default plans. We have updated our recommendations. Please consider using those instead! Read more here: https://github.com/MIC-DKFZ/nnUNet/blob/master/documentation/resenc_presets.md\n",
      "############################\n",
      "\n",
      "Using device: cuda:0\n",
      "2024-12-11 18:06:16.224160: Ignore previous message about oversample_foreground_percent. oversample_foreground_percent overwritten to 0.33\n",
      "\n",
      "#######################################################################\n",
      "Please cite the following paper when using nnU-Net:\n",
      "Isensee, F., Jaeger, P. F., Kohl, S. A., Petersen, J., & Maier-Hein, K. H. (2021). nnU-Net: a self-configuring method for deep learning-based biomedical image segmentation. Nature methods, 18(2), 203-211.\n",
      "#######################################################################\n",
      "\n",
      "2024-12-11 18:06:16.227160: Using early stopping with patience: 100\n",
      "2024-12-11 18:06:16.230144: self.oversample_foreground_percent 0.5\n",
      "2024-12-11 18:06:16.232443: self.oversample_foreground_percent 1.0\n"
     ]
    },
    {
     "name": "stderr",
     "output_type": "stream",
     "text": [
      "c:\\Users\\mrtwe\\TFM\\nnUNet-em\\nnunetv2\\training\\nnUNetTrainer\\nnUNetTrainer.py:164: FutureWarning: `torch.cuda.amp.GradScaler(args...)` is deprecated. Please use `torch.amp.GradScaler('cuda', args...)` instead.\n",
      "  self.grad_scaler = GradScaler() if self.device.type == 'cuda' else None\n",
      "c:\\Users\\mrtwe\\miniforge3\\envs\\TFM\\lib\\site-packages\\torch\\optim\\lr_scheduler.py:62: UserWarning: The verbose parameter is deprecated. Please use get_last_lr() to access the learning rate.\n",
      "  warnings.warn(\n",
      "c:\\Users\\mrtwe\\TFM\\nnUNet-em\\nnunetv2\\training\\nnUNetTrainer\\nnUNetTrainer.py:1184: FutureWarning: You are using `torch.load` with `weights_only=False` (the current default value), which uses the default pickle module implicitly. It is possible to construct malicious pickle data which will execute arbitrary code during unpickling (See https://github.com/pytorch/pytorch/blob/main/SECURITY.md#untrusted-models for more details). In a future release, the default value for `weights_only` will be flipped to `True`. This limits the functions that could be executed during unpickling. Arbitrary objects will no longer be allowed to be loaded via this mode unless they are explicitly allowlisted by the user via `torch.serialization.add_safe_globals`. We recommend you start setting `weights_only=True` for any use case where you don't have full control of the loaded file. Please open an issue on GitHub for any issues related to this experimental feature.\n",
      "  checkpoint = torch.load(filename_or_checkpoint, map_location=self.device)\n"
     ]
    },
    {
     "name": "stdout",
     "output_type": "stream",
     "text": [
      "2024-12-11 18:06:17.368248: Using splits from existing split file: C:\\Users\\mrtwe\\TFM\\nnUNet-em\\nnUNet_preprocessed_data\\Dataset100_NewLesions\\splits_final.json\n",
      "2024-12-11 18:06:17.368248: The split file contains 5 splits.\n",
      "2024-12-11 18:06:17.375148: Desired fold for training: 2\n",
      "2024-12-11 18:06:17.375148: This split has 65 training and 16 validation cases.\n",
      "2024-12-11 18:06:17.382148: predicting FIS_001_01\n",
      "2024-12-11 18:06:17.389062: FIS_001_01, shape torch.Size([2, 182, 218, 182]), rank 0\n",
      "2024-12-11 18:06:20.833675: predicting FIS_005_01\n",
      "2024-12-11 18:06:20.847637: FIS_005_01, shape torch.Size([2, 182, 218, 182]), rank 0\n",
      "2024-12-11 18:06:23.903225: predicting FIS_013_01\n",
      "2024-12-11 18:06:23.917576: FIS_013_01, shape torch.Size([2, 182, 218, 182]), rank 0\n",
      "2024-12-11 18:06:26.974721: predicting FIS_041_01\n",
      "2024-12-11 18:06:26.986444: FIS_041_01, shape torch.Size([2, 182, 218, 182]), rank 0\n",
      "2024-12-11 18:06:29.997669: predicting FIS_042_01\n",
      "2024-12-11 18:06:30.007416: FIS_042_01, shape torch.Size([2, 182, 218, 182]), rank 0\n",
      "2024-12-11 18:06:33.024111: predicting FIS_066_01\n",
      "2024-12-11 18:06:33.035436: FIS_066_01, shape torch.Size([2, 182, 218, 182]), rank 0\n",
      "2024-12-11 18:06:36.048554: predicting FIS_084_01\n",
      "2024-12-11 18:06:36.059385: FIS_084_01, shape torch.Size([2, 182, 218, 182]), rank 0\n",
      "2024-12-11 18:06:39.075431: predicting FIS_090_01\n",
      "2024-12-11 18:06:39.084172: FIS_090_01, shape torch.Size([2, 182, 218, 182]), rank 0\n",
      "2024-12-11 18:06:42.096422: predicting FIS_099_01\n",
      "2024-12-11 18:06:42.105135: FIS_099_01, shape torch.Size([2, 182, 218, 182]), rank 0\n",
      "2024-12-11 18:06:45.122320: predicting FIS_107_01\n",
      "2024-12-11 18:06:45.134196: FIS_107_01, shape torch.Size([2, 182, 218, 182]), rank 0\n",
      "2024-12-11 18:06:48.147057: predicting FIS_116_01\n",
      "2024-12-11 18:06:48.159182: FIS_116_01, shape torch.Size([2, 182, 218, 182]), rank 0\n",
      "2024-12-11 18:06:51.178672: predicting FIS_127_01\n",
      "2024-12-11 18:06:51.188847: FIS_127_01, shape torch.Size([2, 182, 218, 182]), rank 0\n",
      "2024-12-11 18:06:54.206090: predicting REHEM_117_01\n",
      "2024-12-11 18:06:54.209808: REHEM_117_01, shape torch.Size([2, 182, 218, 182]), rank 0\n",
      "2024-12-11 18:06:57.236903: predicting REHEM_15_01\n",
      "2024-12-11 18:06:57.245158: REHEM_15_01, shape torch.Size([2, 182, 218, 182]), rank 0\n",
      "2024-12-11 18:07:00.259047: predicting REHEM_68_01\n",
      "2024-12-11 18:07:00.273784: REHEM_68_01, shape torch.Size([2, 182, 218, 182]), rank 0\n",
      "2024-12-11 18:07:03.286561: predicting REHEM_79_01\n",
      "2024-12-11 18:07:03.303604: REHEM_79_01, shape torch.Size([2, 182, 218, 182]), rank 0\n",
      "2024-12-11 18:07:09.314619: Validation complete\n",
      "2024-12-11 18:07:09.321678: Mean Validation Dice:  0.5032590363847341\n"
     ]
    }
   ],
   "source": [
    "# NNUNetConfig().export_paths_to_env()\n",
    "\n",
    "run_training(\n",
    "        dataset_name_or_id=\"100\",\n",
    "        fold=\"2\",\n",
    "        device=device,\n",
    "        configuration=NNUNetConfig().CONFIGURATION,\n",
    "        trainer_class_name=\"nnUNetTrainerCustomOversamplingEarlyStopping\",\n",
    "        export_validation_probabilities=False,\n",
    "        only_run_validation=True,\n",
    "        val_with_best=True\n",
    "    )"
   ]
  },
  {
   "cell_type": "code",
   "execution_count": 11,
   "metadata": {},
   "outputs": [
    {
     "name": "stdout",
     "output_type": "stream",
     "text": [
      "\n",
      "############################\n",
      "INFO: You are using the old nnU-Net default plans. We have updated our recommendations. Please consider using those instead! Read more here: https://github.com/MIC-DKFZ/nnUNet/blob/master/documentation/resenc_presets.md\n",
      "############################\n",
      "\n",
      "Using device: cuda:0\n",
      "2024-12-11 18:07:09.352405: Ignore previous message about oversample_foreground_percent. oversample_foreground_percent overwritten to 0.33\n",
      "\n",
      "#######################################################################\n",
      "Please cite the following paper when using nnU-Net:\n",
      "Isensee, F., Jaeger, P. F., Kohl, S. A., Petersen, J., & Maier-Hein, K. H. (2021). nnU-Net: a self-configuring method for deep learning-based biomedical image segmentation. Nature methods, 18(2), 203-211.\n",
      "#######################################################################\n",
      "\n",
      "2024-12-11 18:07:09.357282: Using early stopping with patience: 100\n",
      "2024-12-11 18:07:09.361284: self.oversample_foreground_percent 0.5\n",
      "2024-12-11 18:07:09.366064: self.oversample_foreground_percent 1.0\n"
     ]
    },
    {
     "name": "stderr",
     "output_type": "stream",
     "text": [
      "c:\\Users\\mrtwe\\TFM\\nnUNet-em\\nnunetv2\\training\\nnUNetTrainer\\nnUNetTrainer.py:164: FutureWarning: `torch.cuda.amp.GradScaler(args...)` is deprecated. Please use `torch.amp.GradScaler('cuda', args...)` instead.\n",
      "  self.grad_scaler = GradScaler() if self.device.type == 'cuda' else None\n",
      "c:\\Users\\mrtwe\\miniforge3\\envs\\TFM\\lib\\site-packages\\torch\\optim\\lr_scheduler.py:62: UserWarning: The verbose parameter is deprecated. Please use get_last_lr() to access the learning rate.\n",
      "  warnings.warn(\n",
      "c:\\Users\\mrtwe\\TFM\\nnUNet-em\\nnunetv2\\training\\nnUNetTrainer\\nnUNetTrainer.py:1184: FutureWarning: You are using `torch.load` with `weights_only=False` (the current default value), which uses the default pickle module implicitly. It is possible to construct malicious pickle data which will execute arbitrary code during unpickling (See https://github.com/pytorch/pytorch/blob/main/SECURITY.md#untrusted-models for more details). In a future release, the default value for `weights_only` will be flipped to `True`. This limits the functions that could be executed during unpickling. Arbitrary objects will no longer be allowed to be loaded via this mode unless they are explicitly allowlisted by the user via `torch.serialization.add_safe_globals`. We recommend you start setting `weights_only=True` for any use case where you don't have full control of the loaded file. Please open an issue on GitHub for any issues related to this experimental feature.\n",
      "  checkpoint = torch.load(filename_or_checkpoint, map_location=self.device)\n"
     ]
    },
    {
     "name": "stdout",
     "output_type": "stream",
     "text": [
      "2024-12-11 18:07:10.446875: Using splits from existing split file: C:\\Users\\mrtwe\\TFM\\nnUNet-em\\nnUNet_preprocessed_data\\Dataset100_NewLesions\\splits_final.json\n",
      "2024-12-11 18:07:10.453783: The split file contains 5 splits.\n",
      "2024-12-11 18:07:10.455287: Desired fold for training: 3\n",
      "2024-12-11 18:07:10.460724: This split has 65 training and 16 validation cases.\n",
      "2024-12-11 18:07:10.460724: predicting FIS_007_01\n",
      "2024-12-11 18:07:10.467715: FIS_007_01, shape torch.Size([2, 182, 218, 182]), rank 0\n",
      "2024-12-11 18:07:14.016485: predicting FIS_033_01\n",
      "2024-12-11 18:07:14.030400: FIS_033_01, shape torch.Size([2, 182, 218, 182]), rank 0\n",
      "2024-12-11 18:07:17.086127: predicting FIS_067_01\n",
      "2024-12-11 18:07:17.099990: FIS_067_01, shape torch.Size([2, 182, 218, 182]), rank 0\n",
      "2024-12-11 18:07:20.148383: predicting FIS_094_01\n",
      "2024-12-11 18:07:20.162666: FIS_094_01, shape torch.Size([2, 182, 218, 182]), rank 0\n",
      "2024-12-11 18:07:23.176450: predicting FIS_102_01\n",
      "2024-12-11 18:07:23.186368: FIS_102_01, shape torch.Size([2, 182, 218, 182]), rank 0\n",
      "2024-12-11 18:07:26.201427: predicting FIS_117_01\n",
      "2024-12-11 18:07:26.211454: FIS_117_01, shape torch.Size([2, 182, 218, 182]), rank 0\n",
      "2024-12-11 18:07:29.221412: predicting REHEM_107_01\n",
      "2024-12-11 18:07:29.232236: REHEM_107_01, shape torch.Size([2, 182, 218, 182]), rank 0\n",
      "2024-12-11 18:07:32.245520: predicting REHEM_13_01\n",
      "2024-12-11 18:07:32.256210: REHEM_13_01, shape torch.Size([2, 182, 218, 182]), rank 0\n",
      "2024-12-11 18:07:35.267350: predicting REHEM_21_01\n",
      "2024-12-11 18:07:35.279192: REHEM_21_01, shape torch.Size([2, 182, 218, 182]), rank 0\n",
      "2024-12-11 18:07:38.295002: predicting REHEM_55_01\n",
      "2024-12-11 18:07:38.305104: REHEM_55_01, shape torch.Size([2, 182, 218, 182]), rank 0\n",
      "2024-12-11 18:07:41.321083: predicting REHEM_58_01\n",
      "2024-12-11 18:07:41.329858: REHEM_58_01, shape torch.Size([2, 182, 218, 182]), rank 0\n",
      "2024-12-11 18:07:44.352976: predicting REHEM_60_01\n",
      "2024-12-11 18:07:44.364757: REHEM_60_01, shape torch.Size([2, 182, 218, 182]), rank 0\n",
      "2024-12-11 18:07:47.383836: predicting REHEM_67_01\n",
      "2024-12-11 18:07:47.394734: REHEM_67_01, shape torch.Size([2, 182, 218, 182]), rank 0\n",
      "2024-12-11 18:07:50.413842: predicting REHEM_82_01\n",
      "2024-12-11 18:07:50.425653: REHEM_82_01, shape torch.Size([2, 182, 218, 182]), rank 0\n",
      "2024-12-11 18:07:53.442517: predicting REHEM_84_01\n",
      "2024-12-11 18:07:53.448392: REHEM_84_01, shape torch.Size([2, 182, 218, 182]), rank 0\n",
      "2024-12-11 18:07:56.469654: predicting REHEM_86_01\n",
      "2024-12-11 18:07:56.486394: REHEM_86_01, shape torch.Size([2, 182, 218, 182]), rank 0\n",
      "2024-12-11 18:08:02.415082: Validation complete\n",
      "2024-12-11 18:08:02.423170: Mean Validation Dice:  0.3504125940033972\n"
     ]
    }
   ],
   "source": [
    "# NNUNetConfig().export_paths_to_env()\n",
    "\n",
    "run_training(\n",
    "        dataset_name_or_id=\"100\",\n",
    "        fold=\"3\",\n",
    "        device=device,\n",
    "        configuration=NNUNetConfig().CONFIGURATION,\n",
    "        trainer_class_name=\"nnUNetTrainerCustomOversamplingEarlyStopping\",\n",
    "        export_validation_probabilities=False,\n",
    "        only_run_validation=True,\n",
    "        val_with_best=True\n",
    "    )"
   ]
  },
  {
   "cell_type": "code",
   "execution_count": 12,
   "metadata": {},
   "outputs": [
    {
     "name": "stdout",
     "output_type": "stream",
     "text": [
      "\n",
      "############################\n",
      "INFO: You are using the old nnU-Net default plans. We have updated our recommendations. Please consider using those instead! Read more here: https://github.com/MIC-DKFZ/nnUNet/blob/master/documentation/resenc_presets.md\n",
      "############################\n",
      "\n",
      "Using device: cuda:0\n",
      "2024-12-11 18:08:02.450868: Ignore previous message about oversample_foreground_percent. oversample_foreground_percent overwritten to 0.33\n",
      "\n",
      "#######################################################################\n",
      "Please cite the following paper when using nnU-Net:\n",
      "Isensee, F., Jaeger, P. F., Kohl, S. A., Petersen, J., & Maier-Hein, K. H. (2021). nnU-Net: a self-configuring method for deep learning-based biomedical image segmentation. Nature methods, 18(2), 203-211.\n",
      "#######################################################################\n",
      "\n",
      "2024-12-11 18:08:02.455704: Using early stopping with patience: 100\n",
      "2024-12-11 18:08:02.459713: self.oversample_foreground_percent 0.5\n",
      "2024-12-11 18:08:02.462657: self.oversample_foreground_percent 1.0\n"
     ]
    },
    {
     "name": "stderr",
     "output_type": "stream",
     "text": [
      "c:\\Users\\mrtwe\\TFM\\nnUNet-em\\nnunetv2\\training\\nnUNetTrainer\\nnUNetTrainer.py:164: FutureWarning: `torch.cuda.amp.GradScaler(args...)` is deprecated. Please use `torch.amp.GradScaler('cuda', args...)` instead.\n",
      "  self.grad_scaler = GradScaler() if self.device.type == 'cuda' else None\n",
      "c:\\Users\\mrtwe\\miniforge3\\envs\\TFM\\lib\\site-packages\\torch\\optim\\lr_scheduler.py:62: UserWarning: The verbose parameter is deprecated. Please use get_last_lr() to access the learning rate.\n",
      "  warnings.warn(\n",
      "c:\\Users\\mrtwe\\TFM\\nnUNet-em\\nnunetv2\\training\\nnUNetTrainer\\nnUNetTrainer.py:1184: FutureWarning: You are using `torch.load` with `weights_only=False` (the current default value), which uses the default pickle module implicitly. It is possible to construct malicious pickle data which will execute arbitrary code during unpickling (See https://github.com/pytorch/pytorch/blob/main/SECURITY.md#untrusted-models for more details). In a future release, the default value for `weights_only` will be flipped to `True`. This limits the functions that could be executed during unpickling. Arbitrary objects will no longer be allowed to be loaded via this mode unless they are explicitly allowlisted by the user via `torch.serialization.add_safe_globals`. We recommend you start setting `weights_only=True` for any use case where you don't have full control of the loaded file. Please open an issue on GitHub for any issues related to this experimental feature.\n",
      "  checkpoint = torch.load(filename_or_checkpoint, map_location=self.device)\n"
     ]
    },
    {
     "name": "stdout",
     "output_type": "stream",
     "text": [
      "2024-12-11 18:08:03.520309: Using splits from existing split file: C:\\Users\\mrtwe\\TFM\\nnUNet-em\\nnUNet_preprocessed_data\\Dataset100_NewLesions\\splits_final.json\n",
      "2024-12-11 18:08:03.520309: The split file contains 5 splits.\n",
      "2024-12-11 18:08:03.535314: Desired fold for training: 4\n",
      "2024-12-11 18:08:03.535314: This split has 65 training and 16 validation cases.\n",
      "2024-12-11 18:08:03.535314: predicting FIS_017_01\n",
      "2024-12-11 18:08:03.535314: FIS_017_01, shape torch.Size([2, 182, 218, 182]), rank 0\n",
      "2024-12-11 18:08:06.998049: predicting FIS_031_01\n",
      "2024-12-11 18:08:07.013678: FIS_031_01, shape torch.Size([2, 182, 218, 182]), rank 0\n",
      "2024-12-11 18:08:10.067601: predicting FIS_075_01\n",
      "2024-12-11 18:08:10.092735: FIS_075_01, shape torch.Size([2, 182, 218, 182]), rank 0\n",
      "2024-12-11 18:08:13.144009: predicting FIS_082_01\n",
      "2024-12-11 18:08:13.160688: FIS_082_01, shape torch.Size([2, 182, 218, 182]), rank 0\n",
      "2024-12-11 18:08:16.173710: predicting FIS_086_01\n",
      "2024-12-11 18:08:16.185451: FIS_086_01, shape torch.Size([2, 182, 218, 182]), rank 0\n",
      "2024-12-11 18:08:19.230273: predicting FIS_118_01\n",
      "2024-12-11 18:08:19.241175: FIS_118_01, shape torch.Size([2, 182, 218, 182]), rank 0\n",
      "2024-12-11 18:08:22.304358: predicting FIS_128_01\n",
      "2024-12-11 18:08:22.320537: FIS_128_01, shape torch.Size([2, 182, 218, 182]), rank 0\n",
      "2024-12-11 18:08:25.383869: predicting REHEM_08_01\n",
      "2024-12-11 18:08:25.383869: REHEM_08_01, shape torch.Size([2, 182, 218, 182]), rank 0\n",
      "2024-12-11 18:08:28.508448: predicting REHEM_101_01\n",
      "2024-12-11 18:08:28.519560: REHEM_101_01, shape torch.Size([2, 182, 218, 182]), rank 0\n",
      "2024-12-11 18:08:31.582131: predicting REHEM_102_01\n",
      "2024-12-11 18:08:31.582131: REHEM_102_01, shape torch.Size([2, 182, 218, 182]), rank 0\n",
      "2024-12-11 18:08:34.648226: predicting REHEM_121_01\n",
      "2024-12-11 18:08:34.667245: REHEM_121_01, shape torch.Size([2, 182, 218, 182]), rank 0\n",
      "2024-12-11 18:08:37.735424: predicting REHEM_23_01\n",
      "2024-12-11 18:08:37.744265: REHEM_23_01, shape torch.Size([2, 182, 218, 182]), rank 0\n",
      "2024-12-11 18:08:40.783839: predicting REHEM_36_01\n",
      "2024-12-11 18:08:40.800752: REHEM_36_01, shape torch.Size([2, 182, 218, 182]), rank 0\n",
      "2024-12-11 18:08:43.818726: predicting REHEM_41_01\n",
      "2024-12-11 18:08:43.829663: REHEM_41_01, shape torch.Size([2, 182, 218, 182]), rank 0\n",
      "2024-12-11 18:08:46.846561: predicting REHEM_74_01\n",
      "2024-12-11 18:08:46.857599: REHEM_74_01, shape torch.Size([2, 182, 218, 182]), rank 0\n",
      "2024-12-11 18:08:49.878646: predicting REHEM_99_01\n",
      "2024-12-11 18:08:49.890386: REHEM_99_01, shape torch.Size([2, 182, 218, 182]), rank 0\n",
      "2024-12-11 18:08:55.819261: Validation complete\n",
      "2024-12-11 18:08:55.829190: Mean Validation Dice:  0.7486809856590462\n"
     ]
    }
   ],
   "source": [
    "# NNUNetConfig().export_paths_to_env()\n",
    "\n",
    "run_training(\n",
    "        dataset_name_or_id=\"100\",\n",
    "        fold=\"4\",\n",
    "        device=device,\n",
    "        configuration=NNUNetConfig().CONFIGURATION,\n",
    "        trainer_class_name=\"nnUNetTrainerCustomOversamplingEarlyStopping\",\n",
    "        export_validation_probabilities=False,\n",
    "        only_run_validation=True,\n",
    "        val_with_best=True\n",
    "    )"
   ]
  }
 ],
 "metadata": {
  "kernelspec": {
   "display_name": "TFM",
   "language": "python",
   "name": "python3"
  },
  "language_info": {
   "codemirror_mode": {
    "name": "ipython",
    "version": 3
   },
   "file_extension": ".py",
   "mimetype": "text/x-python",
   "name": "python",
   "nbconvert_exporter": "python",
   "pygments_lexer": "ipython3",
   "version": "3.10.15"
  }
 },
 "nbformat": 4,
 "nbformat_minor": 2
}
